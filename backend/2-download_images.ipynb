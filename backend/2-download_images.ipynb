{
 "cells": [
  {
   "cell_type": "code",
   "execution_count": 1,
   "metadata": {},
   "outputs": [],
   "source": [
    "import re\n",
    "import requests\n",
    "import urllib.request\n",
    "from urllib.parse import urljoin\n",
    "\n",
    "from bs4 import BeautifulSoup\n",
    "\n",
    "import pandas as pd\n",
    "\n",
    "from tqdm import tqdm\n",
    "tqdm.pandas()"
   ]
  },
  {
   "cell_type": "code",
   "execution_count": 2,
   "metadata": {},
   "outputs": [
    {
     "data": {
      "text/html": [
       "<div>\n",
       "<style scoped>\n",
       "    .dataframe tbody tr th:only-of-type {\n",
       "        vertical-align: middle;\n",
       "    }\n",
       "\n",
       "    .dataframe tbody tr th {\n",
       "        vertical-align: top;\n",
       "    }\n",
       "\n",
       "    .dataframe thead th {\n",
       "        text-align: right;\n",
       "    }\n",
       "</style>\n",
       "<table border=\"1\" class=\"dataframe\">\n",
       "  <thead>\n",
       "    <tr style=\"text-align: right;\">\n",
       "      <th></th>\n",
       "      <th>date_added</th>\n",
       "      <th>date_modified</th>\n",
       "      <th>guid</th>\n",
       "      <th>id</th>\n",
       "      <th>meta_info</th>\n",
       "      <th>name</th>\n",
       "      <th>parent</th>\n",
       "      <th>type</th>\n",
       "      <th>url</th>\n",
       "      <th>keyword</th>\n",
       "      <th>img_url</th>\n",
       "    </tr>\n",
       "  </thead>\n",
       "  <tbody>\n",
       "    <tr>\n",
       "      <th>0</th>\n",
       "      <td>13202479594197706</td>\n",
       "      <td>13242831177794171</td>\n",
       "      <td>00000000-0000-4000-a000-000000000002</td>\n",
       "      <td>1</td>\n",
       "      <td></td>\n",
       "      <td>書籤列</td>\n",
       "      <td>bookmark_bar</td>\n",
       "      <td>folder</td>\n",
       "      <td></td>\n",
       "      <td>[]</td>\n",
       "      <td></td>\n",
       "    </tr>\n",
       "    <tr>\n",
       "      <th>1</th>\n",
       "      <td>13233003241034750</td>\n",
       "      <td>13233003241037911</td>\n",
       "      <td>f0b52077-6793-498a-b8eb-462dfc400922</td>\n",
       "      <td>1884</td>\n",
       "      <td></td>\n",
       "      <td>2019-nCoV</td>\n",
       "      <td>書籤列</td>\n",
       "      <td>folder</td>\n",
       "      <td></td>\n",
       "      <td>[2019, nCoV]</td>\n",
       "      <td></td>\n",
       "    </tr>\n",
       "    <tr>\n",
       "      <th>2</th>\n",
       "      <td>13226238181043741</td>\n",
       "      <td></td>\n",
       "      <td>7f8a21b9-b559-44ab-b711-c41800d188d1</td>\n",
       "      <td>1885</td>\n",
       "      <td></td>\n",
       "      <td>Coronavirus_Taiwan</td>\n",
       "      <td>2019-nCoV</td>\n",
       "      <td>url</td>\n",
       "      <td>https://viator.maps.arcgis.com/apps/opsdashboa...</td>\n",
       "      <td>[Coronavirus, Taiwan]</td>\n",
       "      <td></td>\n",
       "    </tr>\n",
       "    <tr>\n",
       "      <th>3</th>\n",
       "      <td>13226407607803828</td>\n",
       "      <td></td>\n",
       "      <td>24a7d7be-2a87-4481-b157-3773db2f4eab</td>\n",
       "      <td>1886</td>\n",
       "      <td></td>\n",
       "      <td>2019-nCoV | 武漢肺炎地圖</td>\n",
       "      <td>2019-nCoV</td>\n",
       "      <td>url</td>\n",
       "      <td>https://kiang.github.io/2019-nCoV/</td>\n",
       "      <td>[2019, nCoV, 武漢, 地圖, 肺炎]</td>\n",
       "      <td>http://kiang.github.io/2019-nCoV/og_image.png</td>\n",
       "    </tr>\n",
       "    <tr>\n",
       "      <th>4</th>\n",
       "      <td>13227360115873492</td>\n",
       "      <td></td>\n",
       "      <td>a09ae3f0-3a5f-417c-ad10-423d35e155f3</td>\n",
       "      <td>1888</td>\n",
       "      <td></td>\n",
       "      <td>程序員硬核勸告：現在還不是出門的時候 - 幫趣</td>\n",
       "      <td>2019-nCoV</td>\n",
       "      <td>url</td>\n",
       "      <td>https://bangqu.com/a7wXH5.html</td>\n",
       "      <td>[硬核, 勸告, 現在還, 出門, 時候, 幫趣, 程序]</td>\n",
       "      <td>http://i2.bangqu.com/liang/20200205/v2-3a69d59...</td>\n",
       "    </tr>\n",
       "  </tbody>\n",
       "</table>\n",
       "</div>"
      ],
      "text/plain": [
       "          date_added      date_modified                                  guid  \\\n",
       "0  13202479594197706  13242831177794171  00000000-0000-4000-a000-000000000002   \n",
       "1  13233003241034750  13233003241037911  f0b52077-6793-498a-b8eb-462dfc400922   \n",
       "2  13226238181043741                     7f8a21b9-b559-44ab-b711-c41800d188d1   \n",
       "3  13226407607803828                     24a7d7be-2a87-4481-b157-3773db2f4eab   \n",
       "4  13227360115873492                     a09ae3f0-3a5f-417c-ad10-423d35e155f3   \n",
       "\n",
       "     id meta_info                     name        parent    type  \\\n",
       "0     1                                書籤列  bookmark_bar  folder   \n",
       "1  1884                          2019-nCoV           書籤列  folder   \n",
       "2  1885                 Coronavirus_Taiwan     2019-nCoV     url   \n",
       "3  1886                 2019-nCoV | 武漢肺炎地圖     2019-nCoV     url   \n",
       "4  1888            程序員硬核勸告：現在還不是出門的時候 - 幫趣     2019-nCoV     url   \n",
       "\n",
       "                                                 url  \\\n",
       "0                                                      \n",
       "1                                                      \n",
       "2  https://viator.maps.arcgis.com/apps/opsdashboa...   \n",
       "3                 https://kiang.github.io/2019-nCoV/   \n",
       "4                     https://bangqu.com/a7wXH5.html   \n",
       "\n",
       "                         keyword  \\\n",
       "0                             []   \n",
       "1                   [2019, nCoV]   \n",
       "2          [Coronavirus, Taiwan]   \n",
       "3       [2019, nCoV, 武漢, 地圖, 肺炎]   \n",
       "4  [硬核, 勸告, 現在還, 出門, 時候, 幫趣, 程序]   \n",
       "\n",
       "                                             img_url  \n",
       "0                                                     \n",
       "1                                                     \n",
       "2                                                     \n",
       "3      http://kiang.github.io/2019-nCoV/og_image.png  \n",
       "4  http://i2.bangqu.com/liang/20200205/v2-3a69d59...  "
      ]
     },
     "execution_count": 2,
     "metadata": {},
     "output_type": "execute_result"
    }
   ],
   "source": [
    "df = pd.read_hdf('../metadata.h5')\n",
    "df.head()"
   ]
  },
  {
   "cell_type": "code",
   "execution_count": 3,
   "metadata": {
    "scrolled": true
   },
   "outputs": [
    {
     "name": "stderr",
     "output_type": "stream",
     "text": [
      "100%|████████████████████████████████████████████████████████████████████████████████| 502/502 [10:04<00:00,  1.37it/s]\n"
     ]
    }
   ],
   "source": [
    "def get_thumbnail(row):\n",
    "    if not row['url']:\n",
    "#         print('case a')\n",
    "        return ''\n",
    "\n",
    "    if row['img_url'] == None:\n",
    "        try:\n",
    "#             print('case b1')\n",
    "            with requests.get(row['url'], timeout=1.5) as res:\n",
    "                html = BeautifulSoup(res.text, 'html.parser')\n",
    "            img_node = html.find('meta', attrs={\"property\":\"og:image\"})\n",
    "            if img_node:\n",
    "#                 print('case b1-og exist')\n",
    "                return img_node.get('content')\n",
    "            else:\n",
    "#                 print('case b1-no og')\n",
    "                return ''\n",
    "        except Exception as e:\n",
    "#             print('case b2', e)\n",
    "            return None\n",
    "\n",
    "df['img_url'] = df.progress_apply(get_thumbnail, axis='columns')\n",
    "df.head()"
   ]
  },
  {
   "cell_type": "code",
   "execution_count": 3,
   "metadata": {},
   "outputs": [
    {
     "name": "stderr",
     "output_type": "stream",
     "text": [
      "C:\\Users\\adam8\\Anaconda3\\lib\\site-packages\\pandas\\core\\generic.py:2377: PerformanceWarning: \n",
      "your performance may suffer as PyTables will pickle object types that it cannot\n",
      "map directly to c-types [inferred_type->mixed,key->block0_values] [items->['date_added', 'date_modified', 'guid', 'id', 'meta_info', 'name', 'parent', 'type', 'url', 'keyword', 'img_url']]\n",
      "\n",
      "  return pytables.to_hdf(path_or_buf, key, self, **kwargs)\n"
     ]
    }
   ],
   "source": [
    "df.to_hdf('../metadata.h5', key='data')"
   ]
  },
  {
   "cell_type": "code",
   "execution_count": 4,
   "metadata": {
    "scrolled": true
   },
   "outputs": [
    {
     "name": "stderr",
     "output_type": "stream",
     "text": [
      " 13%|██████████▎                                                                      | 64/502 [00:10<00:55,  7.90it/s]"
     ]
    },
    {
     "name": "stdout",
     "output_type": "stream",
     "text": [
      "HTTP Error 403: Forbidden\n"
     ]
    },
    {
     "name": "stderr",
     "output_type": "stream",
     "text": [
      " 17%|█████████████▋                                                                   | 85/502 [00:14<02:57,  2.35it/s]"
     ]
    },
    {
     "name": "stdout",
     "output_type": "stream",
     "text": [
      "HTTP Error 404: Not Found\n"
     ]
    },
    {
     "name": "stderr",
     "output_type": "stream",
     "text": [
      " 23%|██████████████████                                                              | 113/502 [00:16<01:07,  5.77it/s]"
     ]
    },
    {
     "name": "stdout",
     "output_type": "stream",
     "text": [
      "HTTP Error 403: Forbidden\n"
     ]
    },
    {
     "name": "stderr",
     "output_type": "stream",
     "text": [
      " 25%|████████████████████▏                                                           | 127/502 [00:20<02:22,  2.62it/s]"
     ]
    },
    {
     "name": "stdout",
     "output_type": "stream",
     "text": [
      "HTTP Error 403: Forbidden\n"
     ]
    },
    {
     "name": "stderr",
     "output_type": "stream",
     "text": [
      " 27%|█████████████████████▌                                                          | 135/502 [00:21<01:33,  3.93it/s]"
     ]
    },
    {
     "name": "stdout",
     "output_type": "stream",
     "text": [
      "HTTP Error 404: Not Found\n"
     ]
    },
    {
     "name": "stderr",
     "output_type": "stream",
     "text": [
      " 30%|███████████████████████▉                                                        | 150/502 [00:22<00:53,  6.58it/s]"
     ]
    },
    {
     "name": "stdout",
     "output_type": "stream",
     "text": [
      "Remote end closed connection without response\n"
     ]
    },
    {
     "name": "stderr",
     "output_type": "stream",
     "text": [
      " 30%|████████████████████████▏                                                       | 152/502 [00:22<00:47,  7.40it/s]"
     ]
    },
    {
     "name": "stdout",
     "output_type": "stream",
     "text": [
      "HTTP Error 403: Forbidden\n"
     ]
    },
    {
     "name": "stderr",
     "output_type": "stream",
     "text": [
      " 33%|██████████████████████████▏                                                     | 164/502 [00:24<00:56,  5.95it/s]"
     ]
    },
    {
     "name": "stdout",
     "output_type": "stream",
     "text": [
      "HTTP Error 403: Forbidden\n"
     ]
    },
    {
     "name": "stderr",
     "output_type": "stream",
     "text": [
      " 33%|██████████████████████████▍                                                     | 166/502 [00:24<01:14,  4.53it/s]"
     ]
    },
    {
     "name": "stdout",
     "output_type": "stream",
     "text": [
      "<urlopen error EOF occurred in violation of protocol (_ssl.c:852)>\n"
     ]
    },
    {
     "name": "stderr",
     "output_type": "stream",
     "text": [
      " 42%|█████████████████████████████████▍                                              | 210/502 [00:31<01:15,  3.85it/s]"
     ]
    },
    {
     "name": "stdout",
     "output_type": "stream",
     "text": [
      "HTTP Error 403: Forbidden\n"
     ]
    },
    {
     "name": "stderr",
     "output_type": "stream",
     "text": [
      " 56%|████████████████████████████████████████████▌                                   | 280/502 [00:49<01:03,  3.52it/s]"
     ]
    },
    {
     "name": "stdout",
     "output_type": "stream",
     "text": [
      "HTTP Error 404: Not Found\n"
     ]
    },
    {
     "name": "stderr",
     "output_type": "stream",
     "text": [
      " 59%|███████████████████████████████████████████████▏                                | 296/502 [00:51<00:45,  4.53it/s]"
     ]
    },
    {
     "name": "stdout",
     "output_type": "stream",
     "text": [
      "HTTP Error 403: Forbidden\n",
      "HTTP Error 403: Forbidden\n"
     ]
    },
    {
     "name": "stderr",
     "output_type": "stream",
     "text": [
      " 64%|███████████████████████████████████████████████████▏                            | 321/502 [00:55<00:51,  3.52it/s]"
     ]
    },
    {
     "name": "stdout",
     "output_type": "stream",
     "text": [
      "HTTP Error 403: Forbidden\n"
     ]
    },
    {
     "name": "stderr",
     "output_type": "stream",
     "text": [
      " 64%|███████████████████████████████████████████████████▍                            | 323/502 [00:55<00:38,  4.63it/s]"
     ]
    },
    {
     "name": "stdout",
     "output_type": "stream",
     "text": [
      "HTTP Error 403: Forbidden\n",
      "HTTP Error 400: Bad Request\n"
     ]
    },
    {
     "name": "stderr",
     "output_type": "stream",
     "text": [
      " 65%|████████████████████████████████████████████████████                            | 327/502 [00:55<00:31,  5.48it/s]"
     ]
    },
    {
     "name": "stdout",
     "output_type": "stream",
     "text": [
      "HTTP Error 403: Forbidden\n"
     ]
    },
    {
     "name": "stderr",
     "output_type": "stream",
     "text": [
      " 71%|████████████████████████████████████████████████████████▉                       | 357/502 [01:05<01:35,  1.52it/s]"
     ]
    },
    {
     "name": "stdout",
     "output_type": "stream",
     "text": [
      "HTTP Error 403: Forbidden\n"
     ]
    },
    {
     "name": "stderr",
     "output_type": "stream",
     "text": [
      " 72%|█████████████████████████████████████████████████████████▎                      | 360/502 [01:09<02:23,  1.01s/it]"
     ]
    },
    {
     "name": "stdout",
     "output_type": "stream",
     "text": [
      "HTTP Error 403: Forbidden\n"
     ]
    },
    {
     "name": "stderr",
     "output_type": "stream",
     "text": [
      " 73%|██████████████████████████████████████████████████████████▋                     | 368/502 [01:13<02:00,  1.11it/s]"
     ]
    },
    {
     "name": "stdout",
     "output_type": "stream",
     "text": [
      "HTTP Error 403: Forbidden\n"
     ]
    },
    {
     "name": "stderr",
     "output_type": "stream",
     "text": [
      " 74%|███████████████████████████████████████████████████████████▍                    | 373/502 [01:14<01:21,  1.59it/s]"
     ]
    },
    {
     "name": "stdout",
     "output_type": "stream",
     "text": [
      "HTTP Error 403: Forbidden\n"
     ]
    },
    {
     "name": "stderr",
     "output_type": "stream",
     "text": [
      " 75%|███████████████████████████████████████████████████████████▌                    | 374/502 [01:15<01:22,  1.55it/s]"
     ]
    },
    {
     "name": "stdout",
     "output_type": "stream",
     "text": [
      "HTTP Error 403: Forbidden\n"
     ]
    },
    {
     "name": "stderr",
     "output_type": "stream",
     "text": [
      " 81%|█████████████████████████████████████████████████████████████████               | 408/502 [01:22<00:29,  3.17it/s]"
     ]
    },
    {
     "name": "stdout",
     "output_type": "stream",
     "text": [
      "HTTP Error 403: Forbidden\n"
     ]
    },
    {
     "name": "stderr",
     "output_type": "stream",
     "text": [
      " 83%|██████████████████████████████████████████████████████████████████▌             | 418/502 [01:23<00:24,  3.37it/s]"
     ]
    },
    {
     "name": "stdout",
     "output_type": "stream",
     "text": [
      "HTTP Error 403: Forbidden\n"
     ]
    },
    {
     "name": "stderr",
     "output_type": "stream",
     "text": [
      " 86%|████████████████████████████████████████████████████████████████████▊           | 432/502 [01:26<00:14,  4.69it/s]"
     ]
    },
    {
     "name": "stdout",
     "output_type": "stream",
     "text": [
      "HTTP Error 403: Forbidden\n"
     ]
    },
    {
     "name": "stderr",
     "output_type": "stream",
     "text": [
      " 87%|█████████████████████████████████████████████████████████████████████▎          | 435/502 [01:27<00:14,  4.61it/s]"
     ]
    },
    {
     "name": "stdout",
     "output_type": "stream",
     "text": [
      "HTTP Error 403: Forbidden\n"
     ]
    },
    {
     "name": "stderr",
     "output_type": "stream",
     "text": [
      " 88%|██████████████████████████████████████████████████████████████████████▎         | 441/502 [01:28<00:15,  3.86it/s]"
     ]
    },
    {
     "name": "stdout",
     "output_type": "stream",
     "text": [
      "HTTP Error 403: Forbidden\n"
     ]
    },
    {
     "name": "stderr",
     "output_type": "stream",
     "text": [
      " 88%|██████████████████████████████████████████████████████████████████████▍         | 442/502 [01:29<00:22,  2.67it/s]"
     ]
    },
    {
     "name": "stdout",
     "output_type": "stream",
     "text": [
      "HTTP Error 403: Forbidden\n"
     ]
    },
    {
     "name": "stderr",
     "output_type": "stream",
     "text": [
      " 88%|██████████████████████████████████████████████████████████████████████▌         | 443/502 [01:30<00:28,  2.09it/s]"
     ]
    },
    {
     "name": "stdout",
     "output_type": "stream",
     "text": [
      "HTTP Error 403: Forbidden\n"
     ]
    },
    {
     "name": "stderr",
     "output_type": "stream",
     "text": [
      " 89%|███████████████████████████████████████████████████████████████████████▍        | 448/502 [01:31<00:16,  3.34it/s]"
     ]
    },
    {
     "name": "stdout",
     "output_type": "stream",
     "text": [
      "HTTP Error 403: Forbidden\n"
     ]
    },
    {
     "name": "stderr",
     "output_type": "stream",
     "text": [
      " 90%|███████████████████████████████████████████████████████████████████████▋        | 450/502 [01:32<00:15,  3.25it/s]"
     ]
    },
    {
     "name": "stdout",
     "output_type": "stream",
     "text": [
      "HTTP Error 403: Forbidden\n"
     ]
    },
    {
     "name": "stderr",
     "output_type": "stream",
     "text": [
      " 90%|████████████████████████████████████████████████████████████████████████        | 452/502 [01:33<00:23,  2.13it/s]"
     ]
    },
    {
     "name": "stdout",
     "output_type": "stream",
     "text": [
      "HTTP Error 403: Forbidden\n"
     ]
    },
    {
     "name": "stderr",
     "output_type": "stream",
     "text": [
      " 90%|████████████████████████████████████████████████████████████████████████▏       | 453/502 [01:34<00:26,  1.84it/s]"
     ]
    },
    {
     "name": "stdout",
     "output_type": "stream",
     "text": [
      "HTTP Error 403: Forbidden\n"
     ]
    },
    {
     "name": "stderr",
     "output_type": "stream",
     "text": [
      " 90%|████████████████████████████████████████████████████████████████████████▎       | 454/502 [01:34<00:27,  1.74it/s]"
     ]
    },
    {
     "name": "stdout",
     "output_type": "stream",
     "text": [
      "HTTP Error 403: Forbidden\n"
     ]
    },
    {
     "name": "stderr",
     "output_type": "stream",
     "text": [
      " 91%|████████████████████████████████████████████████████████████████████████▋       | 456/502 [01:35<00:23,  1.97it/s]"
     ]
    },
    {
     "name": "stdout",
     "output_type": "stream",
     "text": [
      "HTTP Error 403: Forbidden\n"
     ]
    },
    {
     "name": "stderr",
     "output_type": "stream",
     "text": [
      " 92%|█████████████████████████████████████████████████████████████████████████▎      | 460/502 [01:38<00:34,  1.22it/s]"
     ]
    },
    {
     "name": "stdout",
     "output_type": "stream",
     "text": [
      "HTTP Error 403: Forbidden\n"
     ]
    },
    {
     "name": "stderr",
     "output_type": "stream",
     "text": [
      " 92%|█████████████████████████████████████████████████████████████████████████▋      | 462/502 [01:39<00:26,  1.49it/s]"
     ]
    },
    {
     "name": "stdout",
     "output_type": "stream",
     "text": [
      "HTTP Error 403: Forbidden\n"
     ]
    },
    {
     "name": "stderr",
     "output_type": "stream",
     "text": [
      " 92%|█████████████████████████████████████████████████████████████████████████▊      | 463/502 [01:39<00:25,  1.50it/s]"
     ]
    },
    {
     "name": "stdout",
     "output_type": "stream",
     "text": [
      "HTTP Error 403: Forbidden\n"
     ]
    },
    {
     "name": "stderr",
     "output_type": "stream",
     "text": [
      " 92%|█████████████████████████████████████████████████████████████████████████▉      | 464/502 [01:40<00:25,  1.50it/s]"
     ]
    },
    {
     "name": "stdout",
     "output_type": "stream",
     "text": [
      "HTTP Error 403: Forbidden\n"
     ]
    },
    {
     "name": "stderr",
     "output_type": "stream",
     "text": [
      " 93%|██████████████████████████████████████████████████████████████████████████      | 465/502 [01:41<00:24,  1.51it/s]"
     ]
    },
    {
     "name": "stdout",
     "output_type": "stream",
     "text": [
      "HTTP Error 403: Forbidden\n"
     ]
    },
    {
     "name": "stderr",
     "output_type": "stream",
     "text": [
      " 94%|███████████████████████████████████████████████████████████████████████████▏    | 472/502 [01:42<00:10,  2.86it/s]"
     ]
    },
    {
     "name": "stdout",
     "output_type": "stream",
     "text": [
      "HTTP Error 403: Forbidden\n"
     ]
    },
    {
     "name": "stderr",
     "output_type": "stream",
     "text": [
      " 95%|████████████████████████████████████████████████████████████████████████████    | 477/502 [01:43<00:07,  3.50it/s]"
     ]
    },
    {
     "name": "stdout",
     "output_type": "stream",
     "text": [
      "HTTP Error 403: Forbidden\n"
     ]
    },
    {
     "name": "stderr",
     "output_type": "stream",
     "text": [
      " 95%|████████████████████████████████████████████████████████████████████████████▏   | 478/502 [01:44<00:09,  2.54it/s]"
     ]
    },
    {
     "name": "stdout",
     "output_type": "stream",
     "text": [
      "HTTP Error 403: Forbidden\n"
     ]
    },
    {
     "name": "stderr",
     "output_type": "stream",
     "text": [
      " 95%|████████████████████████████████████████████████████████████████████████████▎   | 479/502 [01:44<00:10,  2.13it/s]"
     ]
    },
    {
     "name": "stdout",
     "output_type": "stream",
     "text": [
      "HTTP Error 403: Forbidden\n"
     ]
    },
    {
     "name": "stderr",
     "output_type": "stream",
     "text": [
      " 96%|████████████████████████████████████████████████████████████████████████████▍   | 480/502 [01:45<00:11,  1.92it/s]"
     ]
    },
    {
     "name": "stdout",
     "output_type": "stream",
     "text": [
      "HTTP Error 403: Forbidden\n"
     ]
    },
    {
     "name": "stderr",
     "output_type": "stream",
     "text": [
      " 96%|████████████████████████████████████████████████████████████████████████████▉   | 483/502 [01:50<00:26,  1.39s/it]"
     ]
    },
    {
     "name": "stdout",
     "output_type": "stream",
     "text": [
      "HTTP Error 403: Forbidden\n"
     ]
    },
    {
     "name": "stderr",
     "output_type": "stream",
     "text": [
      " 96%|█████████████████████████████████████████████████████████████████████████████▏  | 484/502 [01:51<00:21,  1.17s/it]"
     ]
    },
    {
     "name": "stdout",
     "output_type": "stream",
     "text": [
      "HTTP Error 403: Forbidden\n"
     ]
    },
    {
     "name": "stderr",
     "output_type": "stream",
     "text": [
      " 99%|███████████████████████████████████████████████████████████████████████████████▎| 498/502 [01:54<00:01,  3.37it/s]"
     ]
    },
    {
     "name": "stdout",
     "output_type": "stream",
     "text": [
      "HTTP Error 403: Forbidden\n"
     ]
    },
    {
     "name": "stderr",
     "output_type": "stream",
     "text": [
      "100%|████████████████████████████████████████████████████████████████████████████████| 502/502 [01:55<00:00,  3.39it/s]"
     ]
    },
    {
     "name": "stdout",
     "output_type": "stream",
     "text": [
      "HTTP Error 403: Forbidden\n"
     ]
    },
    {
     "name": "stderr",
     "output_type": "stream",
     "text": [
      "\n"
     ]
    },
    {
     "data": {
      "text/plain": [
       "0      None\n",
       "1      None\n",
       "2      None\n",
       "3      None\n",
       "4      None\n",
       "5      None\n",
       "6      None\n",
       "7      None\n",
       "8      None\n",
       "9      None\n",
       "10     None\n",
       "11     None\n",
       "12     None\n",
       "13     None\n",
       "14     None\n",
       "15     None\n",
       "16     None\n",
       "17     None\n",
       "18     None\n",
       "19     None\n",
       "20     None\n",
       "21     None\n",
       "22     None\n",
       "23     None\n",
       "24     None\n",
       "25     None\n",
       "26     None\n",
       "27     None\n",
       "28     None\n",
       "29     None\n",
       "       ... \n",
       "472    None\n",
       "473    None\n",
       "474    None\n",
       "475    None\n",
       "476    None\n",
       "477    None\n",
       "478    None\n",
       "479    None\n",
       "480    None\n",
       "481    None\n",
       "482    None\n",
       "483    None\n",
       "484    None\n",
       "485    None\n",
       "486    None\n",
       "487    None\n",
       "488    None\n",
       "489    None\n",
       "490    None\n",
       "491    None\n",
       "492    None\n",
       "493    None\n",
       "494    None\n",
       "495    None\n",
       "496    None\n",
       "497    None\n",
       "498    None\n",
       "499    None\n",
       "500    None\n",
       "501    None\n",
       "Length: 502, dtype: object"
      ]
     },
     "execution_count": 4,
     "metadata": {},
     "output_type": "execute_result"
    }
   ],
   "source": [
    "def get_image(row):\n",
    "    if row['img_url']:\n",
    "        img_url = urljoin(*row[['url', 'img_url']])\n",
    "        r = re.match('.*\\.(?P<extension>jpg|jpeg|png|gif)$', img_url)\n",
    "        try:\n",
    "            if r:\n",
    "                extension = r.groupdict()['extension']\n",
    "                urllib.request.urlretrieve(img_url, f\"../images/{row['guid']}.{extension}\")\n",
    "            else:\n",
    "                urllib.request.urlretrieve(img_url, f\"../images/{row['guid']}\")\n",
    "        except Exception as e:\n",
    "            print(e)\n",
    "\n",
    "df.progress_apply(get_image, axis='columns')"
   ]
  }
 ],
 "metadata": {
  "kernelspec": {
   "display_name": "Python 3",
   "language": "python",
   "name": "python3"
  },
  "language_info": {
   "codemirror_mode": {
    "name": "ipython",
    "version": 3
   },
   "file_extension": ".py",
   "mimetype": "text/x-python",
   "name": "python",
   "nbconvert_exporter": "python",
   "pygments_lexer": "ipython3",
   "version": "3.6.8"
  }
 },
 "nbformat": 4,
 "nbformat_minor": 4
}
