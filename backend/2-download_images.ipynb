{
 "cells": [
  {
   "cell_type": "code",
   "execution_count": 1,
   "metadata": {},
   "outputs": [],
   "source": [
    "import re\n",
    "import requests\n",
    "import urllib.request\n",
    "from urllib.parse import urljoin\n",
    "\n",
    "from bs4 import BeautifulSoup\n",
    "\n",
    "import pandas as pd\n",
    "\n",
    "from tqdm import tqdm\n",
    "tqdm.pandas()"
   ]
  },
  {
   "cell_type": "code",
   "execution_count": 2,
   "metadata": {},
   "outputs": [
    {
     "data": {
      "text/html": [
       "<div>\n",
       "<style scoped>\n",
       "    .dataframe tbody tr th:only-of-type {\n",
       "        vertical-align: middle;\n",
       "    }\n",
       "\n",
       "    .dataframe tbody tr th {\n",
       "        vertical-align: top;\n",
       "    }\n",
       "\n",
       "    .dataframe thead th {\n",
       "        text-align: right;\n",
       "    }\n",
       "</style>\n",
       "<table border=\"1\" class=\"dataframe\">\n",
       "  <thead>\n",
       "    <tr style=\"text-align: right;\">\n",
       "      <th></th>\n",
       "      <th>children_folders</th>\n",
       "      <th>children_urls</th>\n",
       "      <th>date_added</th>\n",
       "      <th>date_modified</th>\n",
       "      <th>guid</th>\n",
       "      <th>id</th>\n",
       "      <th>meta_info</th>\n",
       "      <th>name</th>\n",
       "      <th>parents</th>\n",
       "      <th>type</th>\n",
       "      <th>url</th>\n",
       "      <th>keyword</th>\n",
       "      <th>img_url</th>\n",
       "    </tr>\n",
       "  </thead>\n",
       "  <tbody>\n",
       "    <tr>\n",
       "      <th>0</th>\n",
       "      <td>[1884, 1891, 1897, 1928, 1936, 1958, 1980, 161...</td>\n",
       "      <td>[1903, 1906, 1907, 1908, 1909, 1910, 1911, 191...</td>\n",
       "      <td>13202479594197706</td>\n",
       "      <td>13242831177794171</td>\n",
       "      <td>00000000-0000-4000-a000-000000000002</td>\n",
       "      <td>1</td>\n",
       "      <td></td>\n",
       "      <td>書籤列</td>\n",
       "      <td>[書籤列, 2019-nCoV, Coronavirus_Taiwan, 2019-nCoV...</td>\n",
       "      <td>folder</td>\n",
       "      <td></td>\n",
       "      <td>[]</td>\n",
       "      <td>None</td>\n",
       "    </tr>\n",
       "    <tr>\n",
       "      <th>1</th>\n",
       "      <td>[]</td>\n",
       "      <td>[1885, 1886, 1888, 1890]</td>\n",
       "      <td>13233003241034750</td>\n",
       "      <td>13233003241037911</td>\n",
       "      <td>f0b52077-6793-498a-b8eb-462dfc400922</td>\n",
       "      <td>1884</td>\n",
       "      <td></td>\n",
       "      <td>2019-nCoV</td>\n",
       "      <td>[書籤列, 2019-nCoV, Coronavirus_Taiwan, 2019-nCoV...</td>\n",
       "      <td>folder</td>\n",
       "      <td></td>\n",
       "      <td>[2019, nCoV]</td>\n",
       "      <td>None</td>\n",
       "    </tr>\n",
       "    <tr>\n",
       "      <th>2</th>\n",
       "      <td>[]</td>\n",
       "      <td>[]</td>\n",
       "      <td>13226238181043741</td>\n",
       "      <td></td>\n",
       "      <td>7f8a21b9-b559-44ab-b711-c41800d188d1</td>\n",
       "      <td>1885</td>\n",
       "      <td></td>\n",
       "      <td>Coronavirus_Taiwan</td>\n",
       "      <td>[書籤列, 2019-nCoV, Coronavirus_Taiwan, 2019-nCoV...</td>\n",
       "      <td>url</td>\n",
       "      <td>https://viator.maps.arcgis.com/apps/opsdashboa...</td>\n",
       "      <td>[Coronavirus, Taiwan]</td>\n",
       "      <td>None</td>\n",
       "    </tr>\n",
       "    <tr>\n",
       "      <th>3</th>\n",
       "      <td>[]</td>\n",
       "      <td>[]</td>\n",
       "      <td>13226407607803828</td>\n",
       "      <td></td>\n",
       "      <td>24a7d7be-2a87-4481-b157-3773db2f4eab</td>\n",
       "      <td>1886</td>\n",
       "      <td></td>\n",
       "      <td>2019-nCoV | 武漢肺炎地圖</td>\n",
       "      <td>[書籤列, 2019-nCoV, Coronavirus_Taiwan, 2019-nCoV...</td>\n",
       "      <td>url</td>\n",
       "      <td>https://kiang.github.io/2019-nCoV/</td>\n",
       "      <td>[2019, nCoV, 武漢, 地圖, 肺炎]</td>\n",
       "      <td>None</td>\n",
       "    </tr>\n",
       "    <tr>\n",
       "      <th>4</th>\n",
       "      <td>[]</td>\n",
       "      <td>[]</td>\n",
       "      <td>13227360115873492</td>\n",
       "      <td></td>\n",
       "      <td>a09ae3f0-3a5f-417c-ad10-423d35e155f3</td>\n",
       "      <td>1888</td>\n",
       "      <td></td>\n",
       "      <td>程序員硬核勸告：現在還不是出門的時候 - 幫趣</td>\n",
       "      <td>[書籤列, 2019-nCoV, Coronavirus_Taiwan, 2019-nCoV...</td>\n",
       "      <td>url</td>\n",
       "      <td>https://bangqu.com/a7wXH5.html</td>\n",
       "      <td>[硬核, 勸告, 現在還, 出門, 時候, 幫趣, 程序]</td>\n",
       "      <td>None</td>\n",
       "    </tr>\n",
       "    <tr>\n",
       "      <th>5</th>\n",
       "      <td>[]</td>\n",
       "      <td>[]</td>\n",
       "      <td>13232695304731928</td>\n",
       "      <td></td>\n",
       "      <td>8c555a82-3c7b-4f14-8f19-9cfe663e5d19</td>\n",
       "      <td>1890</td>\n",
       "      <td></td>\n",
       "      <td>300新竹市東區高翠路173巷4弄 - Google 地圖</td>\n",
       "      <td>[書籤列, 2019-nCoV, Coronavirus_Taiwan, 2019-nCoV...</td>\n",
       "      <td>url</td>\n",
       "      <td>https://www.google.com/maps/place/300%E6%96%B0...</td>\n",
       "      <td>[300, 東區, 高翠路, 173, Google, 地圖, 新竹市]</td>\n",
       "      <td>None</td>\n",
       "    </tr>\n",
       "    <tr>\n",
       "      <th>6</th>\n",
       "      <td>[]</td>\n",
       "      <td>[1892, 1893, 1894, 1896, 2819, 2843, 2862]</td>\n",
       "      <td>13233003241047126</td>\n",
       "      <td>13242239034086184</td>\n",
       "      <td>90b08b84-66d4-488d-8e18-20cdf3ba014a</td>\n",
       "      <td>1891</td>\n",
       "      <td></td>\n",
       "      <td>iiNumbers</td>\n",
       "      <td>[書籤列, 2019-nCoV, Coronavirus_Taiwan, 2019-nCoV...</td>\n",
       "      <td>folder</td>\n",
       "      <td></td>\n",
       "      <td>[iiNumbers]</td>\n",
       "      <td>None</td>\n",
       "    </tr>\n",
       "    <tr>\n",
       "      <th>7</th>\n",
       "      <td>[]</td>\n",
       "      <td>[]</td>\n",
       "      <td>13228386784256522</td>\n",
       "      <td></td>\n",
       "      <td>8d719a89-0635-42d2-a750-52ab77bd8d8f</td>\n",
       "      <td>1892</td>\n",
       "      <td></td>\n",
       "      <td>Hubstaff - My account: Billing</td>\n",
       "      <td>[書籤列, 2019-nCoV, Coronavirus_Taiwan, 2019-nCoV...</td>\n",
       "      <td>url</td>\n",
       "      <td>https://app.hubstaff.com/users/796279/billing</td>\n",
       "      <td>[Hubstaff, My, account, Billing]</td>\n",
       "      <td>None</td>\n",
       "    </tr>\n",
       "    <tr>\n",
       "      <th>8</th>\n",
       "      <td>[]</td>\n",
       "      <td>[]</td>\n",
       "      <td>13228386905254476</td>\n",
       "      <td></td>\n",
       "      <td>ab84fcbe-ce9f-4823-b200-9066e72d3896</td>\n",
       "      <td>1893</td>\n",
       "      <td></td>\n",
       "      <td>[HQ] New Member On Board</td>\n",
       "      <td>[書籤列, 2019-nCoV, Coronavirus_Taiwan, 2019-nCoV...</td>\n",
       "      <td>url</td>\n",
       "      <td>https://3.basecamp.com/3287947/projects/4147783</td>\n",
       "      <td>[HQ, New, Member, Board]</td>\n",
       "      <td>None</td>\n",
       "    </tr>\n",
       "    <tr>\n",
       "      <th>9</th>\n",
       "      <td>[]</td>\n",
       "      <td>[]</td>\n",
       "      <td>13230802944793614</td>\n",
       "      <td></td>\n",
       "      <td>b66208e6-5322-4eac-9841-bb50844182ee</td>\n",
       "      <td>1894</td>\n",
       "      <td></td>\n",
       "      <td>iiNumbers HQ / Business Development Office / D...</td>\n",
       "      <td>[書籤列, 2019-nCoV, Coronavirus_Taiwan, 2019-nCoV...</td>\n",
       "      <td>url</td>\n",
       "      <td>https://gitlab.iinumbers.net/iinumbers-hq/bdo/...</td>\n",
       "      <td>[Project, iiNumbers, HQ, Business, Development...</td>\n",
       "      <td>None</td>\n",
       "    </tr>\n",
       "    <tr>\n",
       "      <th>10</th>\n",
       "      <td>[]</td>\n",
       "      <td>[]</td>\n",
       "      <td>13230981536512826</td>\n",
       "      <td></td>\n",
       "      <td>1c155564-dbe9-47a2-8de8-e1cb216841c8</td>\n",
       "      <td>1896</td>\n",
       "      <td></td>\n",
       "      <td>GitHub - KevinMusgrave/pytorch-metric-learning...</td>\n",
       "      <td>[書籤列, 2019-nCoV, Coronavirus_Taiwan, 2019-nCoV...</td>\n",
       "      <td>url</td>\n",
       "      <td>https://github.com/KevinMusgrave/pytorch-metri...</td>\n",
       "      <td>[metric, learning, GitHub, KevinMusgrave, pyto...</td>\n",
       "      <td>None</td>\n",
       "    </tr>\n",
       "    <tr>\n",
       "      <th>11</th>\n",
       "      <td>[]</td>\n",
       "      <td>[]</td>\n",
       "      <td>13239022610771834</td>\n",
       "      <td></td>\n",
       "      <td>3fdcd1b9-4693-4697-ac43-af68d2b97a34</td>\n",
       "      <td>2819</td>\n",
       "      <td></td>\n",
       "      <td>超細節的BERT/Transformer知識點 - 幫趣</td>\n",
       "      <td>[書籤列, 2019-nCoV, Coronavirus_Taiwan, 2019-nCoV...</td>\n",
       "      <td>url</td>\n",
       "      <td>https://bangqu.com/1m153J.html?utm_source=dable</td>\n",
       "      <td>[超細節, BERT, Transformer, 知識點, 幫趣]</td>\n",
       "      <td>None</td>\n",
       "    </tr>\n",
       "    <tr>\n",
       "      <th>12</th>\n",
       "      <td>[]</td>\n",
       "      <td>[]</td>\n",
       "      <td>13240327697569156</td>\n",
       "      <td></td>\n",
       "      <td>8c7eace9-34f9-4c77-9eac-a761ac5708d0</td>\n",
       "      <td>2843</td>\n",
       "      <td></td>\n",
       "      <td>Yu-Hsuan Yang - Chat</td>\n",
       "      <td>[書籤列, 2019-nCoV, Coronavirus_Taiwan, 2019-nCoV...</td>\n",
       "      <td>url</td>\n",
       "      <td>https://chat.google.com/u/1/dm/1zMgWgAAAAE</td>\n",
       "      <td>[Yu, Hsuan, Yang, Chat]</td>\n",
       "      <td>None</td>\n",
       "    </tr>\n",
       "    <tr>\n",
       "      <th>13</th>\n",
       "      <td>[]</td>\n",
       "      <td>[]</td>\n",
       "      <td>13242239034086184</td>\n",
       "      <td></td>\n",
       "      <td>d03b2a71-42ca-4f07-8094-6ce457418b7a</td>\n",
       "      <td>2862</td>\n",
       "      <td></td>\n",
       "      <td>Generating Poetry from VAE</td>\n",
       "      <td>[書籤列, 2019-nCoV, Coronavirus_Taiwan, 2019-nCoV...</td>\n",
       "      <td>url</td>\n",
       "      <td>https://ne7ermore.github.io/post/vae/</td>\n",
       "      <td>[Generating, Poetry, VAE]</td>\n",
       "      <td>None</td>\n",
       "    </tr>\n",
       "    <tr>\n",
       "      <th>14</th>\n",
       "      <td>[2826]</td>\n",
       "      <td>[1901, 1898, 1899, 1900, 1902, 2525, 2526, 252...</td>\n",
       "      <td>13233003241057300</td>\n",
       "      <td>13245842170989617</td>\n",
       "      <td>ac90b127-766c-444e-889d-3ea0da36520d</td>\n",
       "      <td>1897</td>\n",
       "      <td></td>\n",
       "      <td>碩</td>\n",
       "      <td>[書籤列, 2019-nCoV, Coronavirus_Taiwan, 2019-nCoV...</td>\n",
       "      <td>folder</td>\n",
       "      <td></td>\n",
       "      <td>[]</td>\n",
       "      <td>None</td>\n",
       "    </tr>\n",
       "    <tr>\n",
       "      <th>15</th>\n",
       "      <td>[]</td>\n",
       "      <td>[]</td>\n",
       "      <td>13232461933479991</td>\n",
       "      <td></td>\n",
       "      <td>7ecea9e9-c6e8-4a6e-ab88-6f6f14cff345</td>\n",
       "      <td>1901</td>\n",
       "      <td></td>\n",
       "      <td>Kaggle Notebooks - HackMD</td>\n",
       "      <td>[書籤列, 2019-nCoV, Coronavirus_Taiwan, 2019-nCoV...</td>\n",
       "      <td>url</td>\n",
       "      <td>https://hackmd.io/@adam840502/SJtCNBNF8/%2Fmok...</td>\n",
       "      <td>[Kaggle, Notebooks, HackMD]</td>\n",
       "      <td>None</td>\n",
       "    </tr>\n",
       "    <tr>\n",
       "      <th>16</th>\n",
       "      <td>[]</td>\n",
       "      <td>[]</td>\n",
       "      <td>13231304059349994</td>\n",
       "      <td></td>\n",
       "      <td>bf99d818-d098-4c77-b7e1-b93cf5bf02f7</td>\n",
       "      <td>1898</td>\n",
       "      <td></td>\n",
       "      <td>COVID-19 Open Research Dataset Challenge (CORD...</td>\n",
       "      <td>[書籤列, 2019-nCoV, Coronavirus_Taiwan, 2019-nCoV...</td>\n",
       "      <td>url</td>\n",
       "      <td>https://www.kaggle.com/allen-institute-for-ai/...</td>\n",
       "      <td>[19, COVID, Open, Research, Dataset, Challenge...</td>\n",
       "      <td>None</td>\n",
       "    </tr>\n",
       "    <tr>\n",
       "      <th>17</th>\n",
       "      <td>[]</td>\n",
       "      <td>[]</td>\n",
       "      <td>13231304063678403</td>\n",
       "      <td></td>\n",
       "      <td>5b332106-f571-4d9f-8b0f-64c0863794c6</td>\n",
       "      <td>1899</td>\n",
       "      <td></td>\n",
       "      <td>COVID19 Global Forecasting (Week 3) | Kaggle</td>\n",
       "      <td>[書籤列, 2019-nCoV, Coronavirus_Taiwan, 2019-nCoV...</td>\n",
       "      <td>url</td>\n",
       "      <td>https://www.kaggle.com/c/covid19-global-foreca...</td>\n",
       "      <td>[COVID19, Global, Forecasting, Week, Kaggle]</td>\n",
       "      <td>None</td>\n",
       "    </tr>\n",
       "    <tr>\n",
       "      <th>18</th>\n",
       "      <td>[]</td>\n",
       "      <td>[]</td>\n",
       "      <td>13231934937856243</td>\n",
       "      <td></td>\n",
       "      <td>d0d51804-b874-4970-9fc4-417cbce86acf</td>\n",
       "      <td>1900</td>\n",
       "      <td></td>\n",
       "      <td>(54) NCTU_CV_2020 - YouTube</td>\n",
       "      <td>[書籤列, 2019-nCoV, Coronavirus_Taiwan, 2019-nCoV...</td>\n",
       "      <td>url</td>\n",
       "      <td>https://www.youtube.com/playlist?list=PLbZA63Q...</td>\n",
       "      <td>[54, NCTU, CV, 2020, YouTube]</td>\n",
       "      <td>None</td>\n",
       "    </tr>\n",
       "    <tr>\n",
       "      <th>19</th>\n",
       "      <td>[]</td>\n",
       "      <td>[]</td>\n",
       "      <td>13232477081545947</td>\n",
       "      <td></td>\n",
       "      <td>ef70addb-ab73-456e-b9b2-d156b4f1d827</td>\n",
       "      <td>1902</td>\n",
       "      <td></td>\n",
       "      <td>What's the Difference Between an Ontology and ...</td>\n",
       "      <td>[書籤列, 2019-nCoV, Coronavirus_Taiwan, 2019-nCoV...</td>\n",
       "      <td>url</td>\n",
       "      <td>https://enterprise-knowledge.com/whats-the-dif...</td>\n",
       "      <td>[Knowledge, What, Difference, Between, Ontolog...</td>\n",
       "      <td>None</td>\n",
       "    </tr>\n",
       "    <tr>\n",
       "      <th>20</th>\n",
       "      <td>[]</td>\n",
       "      <td>[]</td>\n",
       "      <td>13233739309141696</td>\n",
       "      <td></td>\n",
       "      <td>16247bd2-4b37-47e1-8299-92013d24d3a0</td>\n",
       "      <td>2525</td>\n",
       "      <td></td>\n",
       "      <td>Microsoft Word - Topic-based_Vector_Space_Mode...</td>\n",
       "      <td>[書籤列, 2019-nCoV, Coronavirus_Taiwan, 2019-nCoV...</td>\n",
       "      <td>url</td>\n",
       "      <td>http://www.kuropka.net/files/TVSM.pdf</td>\n",
       "      <td>[Microsoft, Word, Topic, based, Vector, Space,...</td>\n",
       "      <td>None</td>\n",
       "    </tr>\n",
       "    <tr>\n",
       "      <th>21</th>\n",
       "      <td>[]</td>\n",
       "      <td>[]</td>\n",
       "      <td>13233739325835730</td>\n",
       "      <td></td>\n",
       "      <td>b83d38d2-add7-4a0c-ae2d-de07845c6174</td>\n",
       "      <td>2526</td>\n",
       "      <td></td>\n",
       "      <td>Binary Independence Model - Wikipedia</td>\n",
       "      <td>[書籤列, 2019-nCoV, Coronavirus_Taiwan, 2019-nCoV...</td>\n",
       "      <td>url</td>\n",
       "      <td>https://en.wikipedia.org/wiki/Binary_Independe...</td>\n",
       "      <td>[Binary, Independence, Model, Wikipedia]</td>\n",
       "      <td>None</td>\n",
       "    </tr>\n",
       "    <tr>\n",
       "      <th>22</th>\n",
       "      <td>[]</td>\n",
       "      <td>[]</td>\n",
       "      <td>13233739343185253</td>\n",
       "      <td></td>\n",
       "      <td>197ec192-c64c-4101-aa31-5ba85f09f791</td>\n",
       "      <td>2527</td>\n",
       "      <td></td>\n",
       "      <td>Latent Dirichlet allocation - Wikipedia</td>\n",
       "      <td>[書籤列, 2019-nCoV, Coronavirus_Taiwan, 2019-nCoV...</td>\n",
       "      <td>url</td>\n",
       "      <td>https://en.wikipedia.org/wiki/Latent_Dirichlet...</td>\n",
       "      <td>[Latent, Dirichlet, allocation, Wikipedia]</td>\n",
       "      <td>None</td>\n",
       "    </tr>\n",
       "    <tr>\n",
       "      <th>23</th>\n",
       "      <td>[]</td>\n",
       "      <td>[]</td>\n",
       "      <td>13234180752300255</td>\n",
       "      <td></td>\n",
       "      <td>2dc58bfd-1f00-4c3d-8f37-47a275342730</td>\n",
       "      <td>2545</td>\n",
       "      <td></td>\n",
       "      <td>Joblib: running Python functions as pipeline j...</td>\n",
       "      <td>[書籤列, 2019-nCoV, Coronavirus_Taiwan, 2019-nCoV...</td>\n",
       "      <td>url</td>\n",
       "      <td>https://joblib.readthedocs.io/en/latest/</td>\n",
       "      <td>[Joblib, running, Python, functions, pipeline,...</td>\n",
       "      <td>None</td>\n",
       "    </tr>\n",
       "    <tr>\n",
       "      <th>24</th>\n",
       "      <td>[]</td>\n",
       "      <td>[]</td>\n",
       "      <td>13234987603440377</td>\n",
       "      <td></td>\n",
       "      <td>8730e3fe-18bc-428a-b053-99e061f3bb74</td>\n",
       "      <td>2741</td>\n",
       "      <td></td>\n",
       "      <td>Basics of DNA Analysis | Kaggle</td>\n",
       "      <td>[書籤列, 2019-nCoV, Coronavirus_Taiwan, 2019-nCoV...</td>\n",
       "      <td>url</td>\n",
       "      <td>https://www.kaggle.com/usharengaraju/basics-of...</td>\n",
       "      <td>[Basics, DNA, Analysis, Kaggle]</td>\n",
       "      <td>None</td>\n",
       "    </tr>\n",
       "    <tr>\n",
       "      <th>25</th>\n",
       "      <td>[]</td>\n",
       "      <td>[]</td>\n",
       "      <td>13235067166999741</td>\n",
       "      <td></td>\n",
       "      <td>228bf8d2-aae3-4590-8dcc-2ac82ae92e22</td>\n",
       "      <td>2744</td>\n",
       "      <td></td>\n",
       "      <td>超細節的BERT/Transformer知識點 - 幫趣</td>\n",
       "      <td>[書籤列, 2019-nCoV, Coronavirus_Taiwan, 2019-nCoV...</td>\n",
       "      <td>url</td>\n",
       "      <td>https://bangqu.com/1m153J.html?utm_source=dable</td>\n",
       "      <td>[超細節, BERT, Transformer, 知識點, 幫趣]</td>\n",
       "      <td>None</td>\n",
       "    </tr>\n",
       "    <tr>\n",
       "      <th>26</th>\n",
       "      <td>[]</td>\n",
       "      <td>[]</td>\n",
       "      <td>13235067181038470</td>\n",
       "      <td></td>\n",
       "      <td>0dc69b68-5025-41f1-bbda-149d5288dba5</td>\n",
       "      <td>2743</td>\n",
       "      <td></td>\n",
       "      <td>All you need to know about text preprocessing ...</td>\n",
       "      <td>[書籤列, 2019-nCoV, Coronavirus_Taiwan, 2019-nCoV...</td>\n",
       "      <td>url</td>\n",
       "      <td>https://www.kdnuggets.com/2019/04/text-preproc...</td>\n",
       "      <td>[need, know, about, text, preprocessing, NLP, ...</td>\n",
       "      <td>None</td>\n",
       "    </tr>\n",
       "    <tr>\n",
       "      <th>27</th>\n",
       "      <td>[]</td>\n",
       "      <td>[]</td>\n",
       "      <td>13235067187970635</td>\n",
       "      <td></td>\n",
       "      <td>5015782b-f6ca-4407-955c-a6d05619cca1</td>\n",
       "      <td>2742</td>\n",
       "      <td></td>\n",
       "      <td>Researchers crack COVID-19 genome signature</td>\n",
       "      <td>[書籤列, 2019-nCoV, Coronavirus_Taiwan, 2019-nCoV...</td>\n",
       "      <td>url</td>\n",
       "      <td>https://phys.org/news/2020-04-covid-genome-sig...</td>\n",
       "      <td>[Researchers, crack, COVID, 19, genome, signat...</td>\n",
       "      <td>None</td>\n",
       "    </tr>\n",
       "    <tr>\n",
       "      <th>28</th>\n",
       "      <td>[]</td>\n",
       "      <td>[]</td>\n",
       "      <td>13235067308425743</td>\n",
       "      <td></td>\n",
       "      <td>8d787f94-268f-4f05-9f81-382d7fdf3db6</td>\n",
       "      <td>2740</td>\n",
       "      <td></td>\n",
       "      <td>Elasticsearch中的相似度模型 - 每日頭條</td>\n",
       "      <td>[書籤列, 2019-nCoV, Coronavirus_Taiwan, 2019-nCoV...</td>\n",
       "      <td>url</td>\n",
       "      <td>https://kknews.cc/news/5amavb3.html</td>\n",
       "      <td>[Elasticsearch, 頭條, 模型, 每日]</td>\n",
       "      <td>None</td>\n",
       "    </tr>\n",
       "    <tr>\n",
       "      <th>29</th>\n",
       "      <td>[]</td>\n",
       "      <td>[]</td>\n",
       "      <td>13236094488255654</td>\n",
       "      <td></td>\n",
       "      <td>5659351e-79e6-497e-82a6-14a045566a69</td>\n",
       "      <td>2798</td>\n",
       "      <td></td>\n",
       "      <td>(99) How To Speak by Patrick Winston - YouTube</td>\n",
       "      <td>[書籤列, 2019-nCoV, Coronavirus_Taiwan, 2019-nCoV...</td>\n",
       "      <td>url</td>\n",
       "      <td>https://www.youtube.com/watch?v=Unzc731iCUY</td>\n",
       "      <td>[99, How, Speak, Patrick, Winston, YouTube]</td>\n",
       "      <td>None</td>\n",
       "    </tr>\n",
       "    <tr>\n",
       "      <th>30</th>\n",
       "      <td>[]</td>\n",
       "      <td>[]</td>\n",
       "      <td>13238474428936247</td>\n",
       "      <td></td>\n",
       "      <td>5be033d0-0bfe-4429-a34a-aee1c0abceab</td>\n",
       "      <td>2810</td>\n",
       "      <td></td>\n",
       "      <td>bert-serving-server · PyPI</td>\n",
       "      <td>[書籤列, 2019-nCoV, Coronavirus_Taiwan, 2019-nCoV...</td>\n",
       "      <td>url</td>\n",
       "      <td>https://pypi.org/project/bert-serving-server/</td>\n",
       "      <td>[bert, serving, server, PyPI]</td>\n",
       "      <td>None</td>\n",
       "    </tr>\n",
       "    <tr>\n",
       "      <th>31</th>\n",
       "      <td>[]</td>\n",
       "      <td>[]</td>\n",
       "      <td>13238604364164582</td>\n",
       "      <td></td>\n",
       "      <td>575a44aa-2821-4716-8211-988efb2abd6e</td>\n",
       "      <td>2812</td>\n",
       "      <td></td>\n",
       "      <td>(21) How To Speak by Patrick Winston - YouTube</td>\n",
       "      <td>[書籤列, 2019-nCoV, Coronavirus_Taiwan, 2019-nCoV...</td>\n",
       "      <td>url</td>\n",
       "      <td>https://www.youtube.com/watch?v=Unzc731iCUY</td>\n",
       "      <td>[21, How, Speak, Patrick, Winston, YouTube]</td>\n",
       "      <td>None</td>\n",
       "    </tr>\n",
       "    <tr>\n",
       "      <th>32</th>\n",
       "      <td>[]</td>\n",
       "      <td>[]</td>\n",
       "      <td>13238604415947583</td>\n",
       "      <td></td>\n",
       "      <td>c5f1f10c-7dc5-45db-8cf8-3894e44f3f50</td>\n",
       "      <td>2813</td>\n",
       "      <td></td>\n",
       "      <td>Lecture 21: Hˆlder spaces, weak derivatives, S...</td>\n",
       "      <td>[書籤列, 2019-nCoV, Coronavirus_Taiwan, 2019-nCoV...</td>\n",
       "      <td>url</td>\n",
       "      <td>https://www.cambro.umu.se/access/content/group...</td>\n",
       "      <td>[spaces, Lecture, 21, lder, weak, derivatives,...</td>\n",
       "      <td>None</td>\n",
       "    </tr>\n",
       "    <tr>\n",
       "      <th>33</th>\n",
       "      <td>[]</td>\n",
       "      <td>[]</td>\n",
       "      <td>13238606316015372</td>\n",
       "      <td></td>\n",
       "      <td>77483029-0604-4bc7-a736-09377a0da588</td>\n",
       "      <td>2814</td>\n",
       "      <td></td>\n",
       "      <td>机器之心SOTA</td>\n",
       "      <td>[書籤列, 2019-nCoV, Coronavirus_Taiwan, 2019-nCoV...</td>\n",
       "      <td>url</td>\n",
       "      <td>https://www.jiqizhixin.com/sota/tech-fields/8a...</td>\n",
       "      <td>[SOTA, 之心, 机器]</td>\n",
       "      <td>None</td>\n",
       "    </tr>\n",
       "    <tr>\n",
       "      <th>34</th>\n",
       "      <td>[]</td>\n",
       "      <td>[]</td>\n",
       "      <td>13239022422085117</td>\n",
       "      <td></td>\n",
       "      <td>922cfeb9-c500-4204-adc1-2b18e73a1018</td>\n",
       "      <td>2816</td>\n",
       "      <td></td>\n",
       "      <td>Graph Neural Network Review - 知乎</td>\n",
       "      <td>[書籤列, 2019-nCoV, Coronavirus_Taiwan, 2019-nCoV...</td>\n",
       "      <td>url</td>\n",
       "      <td>https://zhuanlan.zhihu.com/p/43972372</td>\n",
       "      <td>[Graph, Neural, Network, Review, 知乎]</td>\n",
       "      <td>None</td>\n",
       "    </tr>\n",
       "    <tr>\n",
       "      <th>35</th>\n",
       "      <td>[]</td>\n",
       "      <td>[]</td>\n",
       "      <td>13239022429873291</td>\n",
       "      <td></td>\n",
       "      <td>562968ad-858b-4104-8d0f-8b4a5fb043ce</td>\n",
       "      <td>2817</td>\n",
       "      <td></td>\n",
       "      <td>圖神經網絡（Graph Neural Networks，GNN）綜述 - 每日頭條</td>\n",
       "      <td>[書籤列, 2019-nCoV, Coronavirus_Taiwan, 2019-nCoV...</td>\n",
       "      <td>url</td>\n",
       "      <td>https://kknews.cc/zh-tw/code/q993rrr.html</td>\n",
       "      <td>[圖神經, 網絡, Graph, Neural, Networks, GNN, 綜述, 頭條...</td>\n",
       "      <td>None</td>\n",
       "    </tr>\n",
       "    <tr>\n",
       "      <th>36</th>\n",
       "      <td>[]</td>\n",
       "      <td>[]</td>\n",
       "      <td>13239022558956902</td>\n",
       "      <td></td>\n",
       "      <td>0f9baf01-4355-453f-8bb8-9a85c6366809</td>\n",
       "      <td>2818</td>\n",
       "      <td></td>\n",
       "      <td>全面改進Transformer類預訓練模型，自然語言任務超越BERT - 幫趣</td>\n",
       "      <td>[書籤列, 2019-nCoV, Coronavirus_Taiwan, 2019-nCoV...</td>\n",
       "      <td>url</td>\n",
       "      <td>https://bangqu.com/19R53N.html?fbclid=IwAR3kS3...</td>\n",
       "      <td>[改進, Transformer, 類預, 訓練, 語言, 任務, BERT, 幫趣, 超越...</td>\n",
       "      <td>None</td>\n",
       "    </tr>\n",
       "    <tr>\n",
       "      <th>37</th>\n",
       "      <td>[]</td>\n",
       "      <td>[]</td>\n",
       "      <td>13239022613686480</td>\n",
       "      <td></td>\n",
       "      <td>3754fc1f-41da-474a-bc0f-98fb9ec76d6c</td>\n",
       "      <td>2820</td>\n",
       "      <td></td>\n",
       "      <td>超細節的BERT/Transformer知識點 - 幫趣</td>\n",
       "      <td>[書籤列, 2019-nCoV, Coronavirus_Taiwan, 2019-nCoV...</td>\n",
       "      <td>url</td>\n",
       "      <td>https://bangqu.com/1m153J.html?utm_source=dable</td>\n",
       "      <td>[超細節, BERT, Transformer, 知識點, 幫趣]</td>\n",
       "      <td>None</td>\n",
       "    </tr>\n",
       "    <tr>\n",
       "      <th>38</th>\n",
       "      <td>[]</td>\n",
       "      <td>[]</td>\n",
       "      <td>13239029123717514</td>\n",
       "      <td></td>\n",
       "      <td>e1920fb3-1775-4d16-ba2b-1e124c32375f</td>\n",
       "      <td>2821</td>\n",
       "      <td></td>\n",
       "      <td>COVID-19: Knowledge Graph Embeddings | Kaggle</td>\n",
       "      <td>[書籤列, 2019-nCoV, Coronavirus_Taiwan, 2019-nCoV...</td>\n",
       "      <td>url</td>\n",
       "      <td>https://www.kaggle.com/group16/covid-19-knowle...</td>\n",
       "      <td>[COVID, 19, Knowledge, Graph, Embeddings, Kaggle]</td>\n",
       "      <td>None</td>\n",
       "    </tr>\n",
       "    <tr>\n",
       "      <th>39</th>\n",
       "      <td>[]</td>\n",
       "      <td>[]</td>\n",
       "      <td>13239173189584981</td>\n",
       "      <td></td>\n",
       "      <td>76257718-85fd-4701-b64d-3da7214f43d6</td>\n",
       "      <td>2823</td>\n",
       "      <td></td>\n",
       "      <td>【读论文】Trans系列知识表示学习方法梳理 - 知乎</td>\n",
       "      <td>[書籤列, 2019-nCoV, Coronavirus_Taiwan, 2019-nCoV...</td>\n",
       "      <td>url</td>\n",
       "      <td>https://zhuanlan.zhihu.com/p/32993044</td>\n",
       "      <td>[Trans, 知乎, 梳理, 论文, 系列, 知识, 学习, 方法]</td>\n",
       "      <td>None</td>\n",
       "    </tr>\n",
       "    <tr>\n",
       "      <th>40</th>\n",
       "      <td>[]</td>\n",
       "      <td>[]</td>\n",
       "      <td>13239459500715998</td>\n",
       "      <td></td>\n",
       "      <td>570fd220-bc7b-4df7-bfdb-9450db401f8e</td>\n",
       "      <td>2824</td>\n",
       "      <td></td>\n",
       "      <td>(16) Category theory foundations 1.0 — Steve A...</td>\n",
       "      <td>[書籤列, 2019-nCoV, Coronavirus_Taiwan, 2019-nCoV...</td>\n",
       "      <td>url</td>\n",
       "      <td>https://www.youtube.com/watch?v=BF6kHD1DAeU&amp;li...</td>\n",
       "      <td>[16, Category, theory, foundations, 1.0, Steve...</td>\n",
       "      <td>None</td>\n",
       "    </tr>\n",
       "    <tr>\n",
       "      <th>41</th>\n",
       "      <td>[2827]</td>\n",
       "      <td>[]</td>\n",
       "      <td>13239781247056351</td>\n",
       "      <td>13239901141353978</td>\n",
       "      <td>64ff7756-37de-4e23-83d6-f2db7056d83e</td>\n",
       "      <td>2826</td>\n",
       "      <td></td>\n",
       "      <td>7/21</td>\n",
       "      <td>[書籤列, 2019-nCoV, Coronavirus_Taiwan, 2019-nCoV...</td>\n",
       "      <td>folder</td>\n",
       "      <td></td>\n",
       "      <td>[21]</td>\n",
       "      <td>None</td>\n",
       "    </tr>\n",
       "    <tr>\n",
       "      <th>42</th>\n",
       "      <td>[]</td>\n",
       "      <td>[2828, 2829, 2830, 2831, 2832, 2833, 2834, 283...</td>\n",
       "      <td>13239781247057376</td>\n",
       "      <td>13239781247071384</td>\n",
       "      <td>8895186b-c35e-426c-9c0b-5ce166e107d6</td>\n",
       "      <td>2827</td>\n",
       "      <td></td>\n",
       "      <td>新增資料夾</td>\n",
       "      <td>[書籤列, 2019-nCoV, Coronavirus_Taiwan, 2019-nCoV...</td>\n",
       "      <td>folder</td>\n",
       "      <td></td>\n",
       "      <td>[資料夾, 新增]</td>\n",
       "      <td>None</td>\n",
       "    </tr>\n",
       "    <tr>\n",
       "      <th>43</th>\n",
       "      <td>[]</td>\n",
       "      <td>[]</td>\n",
       "      <td>13239781247058173</td>\n",
       "      <td></td>\n",
       "      <td>a113154c-eff3-4ee2-894c-1b28c1d938ea</td>\n",
       "      <td>2828</td>\n",
       "      <td></td>\n",
       "      <td>JupyterLab</td>\n",
       "      <td>[書籤列, 2019-nCoV, Coronavirus_Taiwan, 2019-nCoV...</td>\n",
       "      <td>url</td>\n",
       "      <td>http://140.113.114.59:8888/lab</td>\n",
       "      <td>[JupyterLab]</td>\n",
       "      <td>None</td>\n",
       "    </tr>\n",
       "    <tr>\n",
       "      <th>44</th>\n",
       "      <td>[]</td>\n",
       "      <td>[]</td>\n",
       "      <td>13239781247059044</td>\n",
       "      <td></td>\n",
       "      <td>1aae9705-6ffa-469c-9a05-1084ff5ae8cd</td>\n",
       "      <td>2829</td>\n",
       "      <td></td>\n",
       "      <td>KP-Miner: A Simple System for Effective Keyphr...</td>\n",
       "      <td>[書籤列, 2019-nCoV, Coronavirus_Taiwan, 2019-nCoV...</td>\n",
       "      <td>url</td>\n",
       "      <td>https://ieeexplore.ieee.org/document/4085463</td>\n",
       "      <td>[KP, Miner, Simple, System, Effective, Keyphra...</td>\n",
       "      <td>None</td>\n",
       "    </tr>\n",
       "    <tr>\n",
       "      <th>45</th>\n",
       "      <td>[]</td>\n",
       "      <td>[]</td>\n",
       "      <td>13239781247060989</td>\n",
       "      <td></td>\n",
       "      <td>b918d024-3bad-493f-a18a-a7d52d4a3d2e</td>\n",
       "      <td>2830</td>\n",
       "      <td></td>\n",
       "      <td>Kaggle Notebooks - HackMD</td>\n",
       "      <td>[書籤列, 2019-nCoV, Coronavirus_Taiwan, 2019-nCoV...</td>\n",
       "      <td>url</td>\n",
       "      <td>https://hackmd.io/@adam840502/SJtCNBNF8/%2Fmok...</td>\n",
       "      <td>[Kaggle, Notebooks, HackMD]</td>\n",
       "      <td>None</td>\n",
       "    </tr>\n",
       "    <tr>\n",
       "      <th>46</th>\n",
       "      <td>[]</td>\n",
       "      <td>[]</td>\n",
       "      <td>13239781247061987</td>\n",
       "      <td></td>\n",
       "      <td>497de867-da66-48de-81aa-9b56b5c2dbde</td>\n",
       "      <td>2831</td>\n",
       "      <td></td>\n",
       "      <td>COVID-19 Open Research Dataset Challenge (CORD...</td>\n",
       "      <td>[書籤列, 2019-nCoV, Coronavirus_Taiwan, 2019-nCoV...</td>\n",
       "      <td>url</td>\n",
       "      <td>https://www.kaggle.com/allen-institute-for-ai/...</td>\n",
       "      <td>[19, COVID, Open, Research, Dataset, Challenge...</td>\n",
       "      <td>None</td>\n",
       "    </tr>\n",
       "    <tr>\n",
       "      <th>47</th>\n",
       "      <td>[]</td>\n",
       "      <td>[]</td>\n",
       "      <td>13239781247063724</td>\n",
       "      <td></td>\n",
       "      <td>0b87d94a-eac2-4a18-9ab6-3e5700636699</td>\n",
       "      <td>2832</td>\n",
       "      <td></td>\n",
       "      <td>KeyPhrase Extraction and Graph analysis | Kaggle</td>\n",
       "      <td>[書籤列, 2019-nCoV, Coronavirus_Taiwan, 2019-nCoV...</td>\n",
       "      <td>url</td>\n",
       "      <td>https://www.kaggle.com/hamid3731/keyphrase-ext...</td>\n",
       "      <td>[KeyPhrase, Extraction, Graph, analysis, Kaggle]</td>\n",
       "      <td>None</td>\n",
       "    </tr>\n",
       "    <tr>\n",
       "      <th>48</th>\n",
       "      <td>[]</td>\n",
       "      <td>[]</td>\n",
       "      <td>13239781247065008</td>\n",
       "      <td></td>\n",
       "      <td>4360052f-2a14-4aba-9359-23ec497d41ad</td>\n",
       "      <td>2833</td>\n",
       "      <td></td>\n",
       "      <td>Covid-19 citation graph - embedding using Deep...</td>\n",
       "      <td>[書籤列, 2019-nCoV, Coronavirus_Taiwan, 2019-nCoV...</td>\n",
       "      <td>url</td>\n",
       "      <td>https://www.kaggle.com/midnitekoder/covid-19-c...</td>\n",
       "      <td>[Covid, 19, citation, graph, embedding, using,...</td>\n",
       "      <td>None</td>\n",
       "    </tr>\n",
       "    <tr>\n",
       "      <th>49</th>\n",
       "      <td>[]</td>\n",
       "      <td>[]</td>\n",
       "      <td>13239781247066079</td>\n",
       "      <td></td>\n",
       "      <td>96cd9fd9-0b35-4a11-a5ff-c85671e16340</td>\n",
       "      <td>2834</td>\n",
       "      <td></td>\n",
       "      <td>CORD-19 Citation Graph Similarity QA Collabora...</td>\n",
       "      <td>[書籤列, 2019-nCoV, Coronavirus_Taiwan, 2019-nCoV...</td>\n",
       "      <td>url</td>\n",
       "      <td>https://www.kaggle.com/kushagra607/cord-19-cit...</td>\n",
       "      <td>[CORD, 19, Citation, Graph, Similarity, QA, Co...</td>\n",
       "      <td>None</td>\n",
       "    </tr>\n",
       "  </tbody>\n",
       "</table>\n",
       "</div>"
      ],
      "text/plain": [
       "                                     children_folders  \\\n",
       "0   [1884, 1891, 1897, 1928, 1936, 1958, 1980, 161...   \n",
       "1                                                  []   \n",
       "2                                                  []   \n",
       "3                                                  []   \n",
       "4                                                  []   \n",
       "5                                                  []   \n",
       "6                                                  []   \n",
       "7                                                  []   \n",
       "8                                                  []   \n",
       "9                                                  []   \n",
       "10                                                 []   \n",
       "11                                                 []   \n",
       "12                                                 []   \n",
       "13                                                 []   \n",
       "14                                             [2826]   \n",
       "15                                                 []   \n",
       "16                                                 []   \n",
       "17                                                 []   \n",
       "18                                                 []   \n",
       "19                                                 []   \n",
       "20                                                 []   \n",
       "21                                                 []   \n",
       "22                                                 []   \n",
       "23                                                 []   \n",
       "24                                                 []   \n",
       "25                                                 []   \n",
       "26                                                 []   \n",
       "27                                                 []   \n",
       "28                                                 []   \n",
       "29                                                 []   \n",
       "30                                                 []   \n",
       "31                                                 []   \n",
       "32                                                 []   \n",
       "33                                                 []   \n",
       "34                                                 []   \n",
       "35                                                 []   \n",
       "36                                                 []   \n",
       "37                                                 []   \n",
       "38                                                 []   \n",
       "39                                                 []   \n",
       "40                                                 []   \n",
       "41                                             [2827]   \n",
       "42                                                 []   \n",
       "43                                                 []   \n",
       "44                                                 []   \n",
       "45                                                 []   \n",
       "46                                                 []   \n",
       "47                                                 []   \n",
       "48                                                 []   \n",
       "49                                                 []   \n",
       "\n",
       "                                        children_urls         date_added  \\\n",
       "0   [1903, 1906, 1907, 1908, 1909, 1910, 1911, 191...  13202479594197706   \n",
       "1                            [1885, 1886, 1888, 1890]  13233003241034750   \n",
       "2                                                  []  13226238181043741   \n",
       "3                                                  []  13226407607803828   \n",
       "4                                                  []  13227360115873492   \n",
       "5                                                  []  13232695304731928   \n",
       "6          [1892, 1893, 1894, 1896, 2819, 2843, 2862]  13233003241047126   \n",
       "7                                                  []  13228386784256522   \n",
       "8                                                  []  13228386905254476   \n",
       "9                                                  []  13230802944793614   \n",
       "10                                                 []  13230981536512826   \n",
       "11                                                 []  13239022610771834   \n",
       "12                                                 []  13240327697569156   \n",
       "13                                                 []  13242239034086184   \n",
       "14  [1901, 1898, 1899, 1900, 1902, 2525, 2526, 252...  13233003241057300   \n",
       "15                                                 []  13232461933479991   \n",
       "16                                                 []  13231304059349994   \n",
       "17                                                 []  13231304063678403   \n",
       "18                                                 []  13231934937856243   \n",
       "19                                                 []  13232477081545947   \n",
       "20                                                 []  13233739309141696   \n",
       "21                                                 []  13233739325835730   \n",
       "22                                                 []  13233739343185253   \n",
       "23                                                 []  13234180752300255   \n",
       "24                                                 []  13234987603440377   \n",
       "25                                                 []  13235067166999741   \n",
       "26                                                 []  13235067181038470   \n",
       "27                                                 []  13235067187970635   \n",
       "28                                                 []  13235067308425743   \n",
       "29                                                 []  13236094488255654   \n",
       "30                                                 []  13238474428936247   \n",
       "31                                                 []  13238604364164582   \n",
       "32                                                 []  13238604415947583   \n",
       "33                                                 []  13238606316015372   \n",
       "34                                                 []  13239022422085117   \n",
       "35                                                 []  13239022429873291   \n",
       "36                                                 []  13239022558956902   \n",
       "37                                                 []  13239022613686480   \n",
       "38                                                 []  13239029123717514   \n",
       "39                                                 []  13239173189584981   \n",
       "40                                                 []  13239459500715998   \n",
       "41                                                 []  13239781247056351   \n",
       "42  [2828, 2829, 2830, 2831, 2832, 2833, 2834, 283...  13239781247057376   \n",
       "43                                                 []  13239781247058173   \n",
       "44                                                 []  13239781247059044   \n",
       "45                                                 []  13239781247060989   \n",
       "46                                                 []  13239781247061987   \n",
       "47                                                 []  13239781247063724   \n",
       "48                                                 []  13239781247065008   \n",
       "49                                                 []  13239781247066079   \n",
       "\n",
       "        date_modified                                  guid    id meta_info  \\\n",
       "0   13242831177794171  00000000-0000-4000-a000-000000000002     1             \n",
       "1   13233003241037911  f0b52077-6793-498a-b8eb-462dfc400922  1884             \n",
       "2                      7f8a21b9-b559-44ab-b711-c41800d188d1  1885             \n",
       "3                      24a7d7be-2a87-4481-b157-3773db2f4eab  1886             \n",
       "4                      a09ae3f0-3a5f-417c-ad10-423d35e155f3  1888             \n",
       "5                      8c555a82-3c7b-4f14-8f19-9cfe663e5d19  1890             \n",
       "6   13242239034086184  90b08b84-66d4-488d-8e18-20cdf3ba014a  1891             \n",
       "7                      8d719a89-0635-42d2-a750-52ab77bd8d8f  1892             \n",
       "8                      ab84fcbe-ce9f-4823-b200-9066e72d3896  1893             \n",
       "9                      b66208e6-5322-4eac-9841-bb50844182ee  1894             \n",
       "10                     1c155564-dbe9-47a2-8de8-e1cb216841c8  1896             \n",
       "11                     3fdcd1b9-4693-4697-ac43-af68d2b97a34  2819             \n",
       "12                     8c7eace9-34f9-4c77-9eac-a761ac5708d0  2843             \n",
       "13                     d03b2a71-42ca-4f07-8094-6ce457418b7a  2862             \n",
       "14  13245842170989617  ac90b127-766c-444e-889d-3ea0da36520d  1897             \n",
       "15                     7ecea9e9-c6e8-4a6e-ab88-6f6f14cff345  1901             \n",
       "16                     bf99d818-d098-4c77-b7e1-b93cf5bf02f7  1898             \n",
       "17                     5b332106-f571-4d9f-8b0f-64c0863794c6  1899             \n",
       "18                     d0d51804-b874-4970-9fc4-417cbce86acf  1900             \n",
       "19                     ef70addb-ab73-456e-b9b2-d156b4f1d827  1902             \n",
       "20                     16247bd2-4b37-47e1-8299-92013d24d3a0  2525             \n",
       "21                     b83d38d2-add7-4a0c-ae2d-de07845c6174  2526             \n",
       "22                     197ec192-c64c-4101-aa31-5ba85f09f791  2527             \n",
       "23                     2dc58bfd-1f00-4c3d-8f37-47a275342730  2545             \n",
       "24                     8730e3fe-18bc-428a-b053-99e061f3bb74  2741             \n",
       "25                     228bf8d2-aae3-4590-8dcc-2ac82ae92e22  2744             \n",
       "26                     0dc69b68-5025-41f1-bbda-149d5288dba5  2743             \n",
       "27                     5015782b-f6ca-4407-955c-a6d05619cca1  2742             \n",
       "28                     8d787f94-268f-4f05-9f81-382d7fdf3db6  2740             \n",
       "29                     5659351e-79e6-497e-82a6-14a045566a69  2798             \n",
       "30                     5be033d0-0bfe-4429-a34a-aee1c0abceab  2810             \n",
       "31                     575a44aa-2821-4716-8211-988efb2abd6e  2812             \n",
       "32                     c5f1f10c-7dc5-45db-8cf8-3894e44f3f50  2813             \n",
       "33                     77483029-0604-4bc7-a736-09377a0da588  2814             \n",
       "34                     922cfeb9-c500-4204-adc1-2b18e73a1018  2816             \n",
       "35                     562968ad-858b-4104-8d0f-8b4a5fb043ce  2817             \n",
       "36                     0f9baf01-4355-453f-8bb8-9a85c6366809  2818             \n",
       "37                     3754fc1f-41da-474a-bc0f-98fb9ec76d6c  2820             \n",
       "38                     e1920fb3-1775-4d16-ba2b-1e124c32375f  2821             \n",
       "39                     76257718-85fd-4701-b64d-3da7214f43d6  2823             \n",
       "40                     570fd220-bc7b-4df7-bfdb-9450db401f8e  2824             \n",
       "41  13239901141353978  64ff7756-37de-4e23-83d6-f2db7056d83e  2826             \n",
       "42  13239781247071384  8895186b-c35e-426c-9c0b-5ce166e107d6  2827             \n",
       "43                     a113154c-eff3-4ee2-894c-1b28c1d938ea  2828             \n",
       "44                     1aae9705-6ffa-469c-9a05-1084ff5ae8cd  2829             \n",
       "45                     b918d024-3bad-493f-a18a-a7d52d4a3d2e  2830             \n",
       "46                     497de867-da66-48de-81aa-9b56b5c2dbde  2831             \n",
       "47                     0b87d94a-eac2-4a18-9ab6-3e5700636699  2832             \n",
       "48                     4360052f-2a14-4aba-9359-23ec497d41ad  2833             \n",
       "49                     96cd9fd9-0b35-4a11-a5ff-c85671e16340  2834             \n",
       "\n",
       "                                                 name  \\\n",
       "0                                                 書籤列   \n",
       "1                                           2019-nCoV   \n",
       "2                                  Coronavirus_Taiwan   \n",
       "3                                  2019-nCoV | 武漢肺炎地圖   \n",
       "4                             程序員硬核勸告：現在還不是出門的時候 - 幫趣   \n",
       "5                       300新竹市東區高翠路173巷4弄 - Google 地圖   \n",
       "6                                           iiNumbers   \n",
       "7                      Hubstaff - My account: Billing   \n",
       "8                            [HQ] New Member On Board   \n",
       "9   iiNumbers HQ / Business Development Office / D...   \n",
       "10  GitHub - KevinMusgrave/pytorch-metric-learning...   \n",
       "11                       超細節的BERT/Transformer知識點 - 幫趣   \n",
       "12                               Yu-Hsuan Yang - Chat   \n",
       "13                         Generating Poetry from VAE   \n",
       "14                                                  碩   \n",
       "15                          Kaggle Notebooks - HackMD   \n",
       "16  COVID-19 Open Research Dataset Challenge (CORD...   \n",
       "17       COVID19 Global Forecasting (Week 3) | Kaggle   \n",
       "18                        (54) NCTU_CV_2020 - YouTube   \n",
       "19  What's the Difference Between an Ontology and ...   \n",
       "20  Microsoft Word - Topic-based_Vector_Space_Mode...   \n",
       "21              Binary Independence Model - Wikipedia   \n",
       "22            Latent Dirichlet allocation - Wikipedia   \n",
       "23  Joblib: running Python functions as pipeline j...   \n",
       "24                    Basics of DNA Analysis | Kaggle   \n",
       "25                       超細節的BERT/Transformer知識點 - 幫趣   \n",
       "26  All you need to know about text preprocessing ...   \n",
       "27        Researchers crack COVID-19 genome signature   \n",
       "28                        Elasticsearch中的相似度模型 - 每日頭條   \n",
       "29     (99) How To Speak by Patrick Winston - YouTube   \n",
       "30                         bert-serving-server · PyPI   \n",
       "31     (21) How To Speak by Patrick Winston - YouTube   \n",
       "32  Lecture 21: Hˆlder spaces, weak derivatives, S...   \n",
       "33                                           机器之心SOTA   \n",
       "34                   Graph Neural Network Review - 知乎   \n",
       "35          圖神經網絡（Graph Neural Networks，GNN）綜述 - 每日頭條   \n",
       "36            全面改進Transformer類預訓練模型，自然語言任務超越BERT - 幫趣   \n",
       "37                       超細節的BERT/Transformer知識點 - 幫趣   \n",
       "38      COVID-19: Knowledge Graph Embeddings | Kaggle   \n",
       "39                        【读论文】Trans系列知识表示学习方法梳理 - 知乎   \n",
       "40  (16) Category theory foundations 1.0 — Steve A...   \n",
       "41                                               7/21   \n",
       "42                                              新增資料夾   \n",
       "43                                         JupyterLab   \n",
       "44  KP-Miner: A Simple System for Effective Keyphr...   \n",
       "45                          Kaggle Notebooks - HackMD   \n",
       "46  COVID-19 Open Research Dataset Challenge (CORD...   \n",
       "47   KeyPhrase Extraction and Graph analysis | Kaggle   \n",
       "48  Covid-19 citation graph - embedding using Deep...   \n",
       "49  CORD-19 Citation Graph Similarity QA Collabora...   \n",
       "\n",
       "                                              parents    type  \\\n",
       "0   [書籤列, 2019-nCoV, Coronavirus_Taiwan, 2019-nCoV...  folder   \n",
       "1   [書籤列, 2019-nCoV, Coronavirus_Taiwan, 2019-nCoV...  folder   \n",
       "2   [書籤列, 2019-nCoV, Coronavirus_Taiwan, 2019-nCoV...     url   \n",
       "3   [書籤列, 2019-nCoV, Coronavirus_Taiwan, 2019-nCoV...     url   \n",
       "4   [書籤列, 2019-nCoV, Coronavirus_Taiwan, 2019-nCoV...     url   \n",
       "5   [書籤列, 2019-nCoV, Coronavirus_Taiwan, 2019-nCoV...     url   \n",
       "6   [書籤列, 2019-nCoV, Coronavirus_Taiwan, 2019-nCoV...  folder   \n",
       "7   [書籤列, 2019-nCoV, Coronavirus_Taiwan, 2019-nCoV...     url   \n",
       "8   [書籤列, 2019-nCoV, Coronavirus_Taiwan, 2019-nCoV...     url   \n",
       "9   [書籤列, 2019-nCoV, Coronavirus_Taiwan, 2019-nCoV...     url   \n",
       "10  [書籤列, 2019-nCoV, Coronavirus_Taiwan, 2019-nCoV...     url   \n",
       "11  [書籤列, 2019-nCoV, Coronavirus_Taiwan, 2019-nCoV...     url   \n",
       "12  [書籤列, 2019-nCoV, Coronavirus_Taiwan, 2019-nCoV...     url   \n",
       "13  [書籤列, 2019-nCoV, Coronavirus_Taiwan, 2019-nCoV...     url   \n",
       "14  [書籤列, 2019-nCoV, Coronavirus_Taiwan, 2019-nCoV...  folder   \n",
       "15  [書籤列, 2019-nCoV, Coronavirus_Taiwan, 2019-nCoV...     url   \n",
       "16  [書籤列, 2019-nCoV, Coronavirus_Taiwan, 2019-nCoV...     url   \n",
       "17  [書籤列, 2019-nCoV, Coronavirus_Taiwan, 2019-nCoV...     url   \n",
       "18  [書籤列, 2019-nCoV, Coronavirus_Taiwan, 2019-nCoV...     url   \n",
       "19  [書籤列, 2019-nCoV, Coronavirus_Taiwan, 2019-nCoV...     url   \n",
       "20  [書籤列, 2019-nCoV, Coronavirus_Taiwan, 2019-nCoV...     url   \n",
       "21  [書籤列, 2019-nCoV, Coronavirus_Taiwan, 2019-nCoV...     url   \n",
       "22  [書籤列, 2019-nCoV, Coronavirus_Taiwan, 2019-nCoV...     url   \n",
       "23  [書籤列, 2019-nCoV, Coronavirus_Taiwan, 2019-nCoV...     url   \n",
       "24  [書籤列, 2019-nCoV, Coronavirus_Taiwan, 2019-nCoV...     url   \n",
       "25  [書籤列, 2019-nCoV, Coronavirus_Taiwan, 2019-nCoV...     url   \n",
       "26  [書籤列, 2019-nCoV, Coronavirus_Taiwan, 2019-nCoV...     url   \n",
       "27  [書籤列, 2019-nCoV, Coronavirus_Taiwan, 2019-nCoV...     url   \n",
       "28  [書籤列, 2019-nCoV, Coronavirus_Taiwan, 2019-nCoV...     url   \n",
       "29  [書籤列, 2019-nCoV, Coronavirus_Taiwan, 2019-nCoV...     url   \n",
       "30  [書籤列, 2019-nCoV, Coronavirus_Taiwan, 2019-nCoV...     url   \n",
       "31  [書籤列, 2019-nCoV, Coronavirus_Taiwan, 2019-nCoV...     url   \n",
       "32  [書籤列, 2019-nCoV, Coronavirus_Taiwan, 2019-nCoV...     url   \n",
       "33  [書籤列, 2019-nCoV, Coronavirus_Taiwan, 2019-nCoV...     url   \n",
       "34  [書籤列, 2019-nCoV, Coronavirus_Taiwan, 2019-nCoV...     url   \n",
       "35  [書籤列, 2019-nCoV, Coronavirus_Taiwan, 2019-nCoV...     url   \n",
       "36  [書籤列, 2019-nCoV, Coronavirus_Taiwan, 2019-nCoV...     url   \n",
       "37  [書籤列, 2019-nCoV, Coronavirus_Taiwan, 2019-nCoV...     url   \n",
       "38  [書籤列, 2019-nCoV, Coronavirus_Taiwan, 2019-nCoV...     url   \n",
       "39  [書籤列, 2019-nCoV, Coronavirus_Taiwan, 2019-nCoV...     url   \n",
       "40  [書籤列, 2019-nCoV, Coronavirus_Taiwan, 2019-nCoV...     url   \n",
       "41  [書籤列, 2019-nCoV, Coronavirus_Taiwan, 2019-nCoV...  folder   \n",
       "42  [書籤列, 2019-nCoV, Coronavirus_Taiwan, 2019-nCoV...  folder   \n",
       "43  [書籤列, 2019-nCoV, Coronavirus_Taiwan, 2019-nCoV...     url   \n",
       "44  [書籤列, 2019-nCoV, Coronavirus_Taiwan, 2019-nCoV...     url   \n",
       "45  [書籤列, 2019-nCoV, Coronavirus_Taiwan, 2019-nCoV...     url   \n",
       "46  [書籤列, 2019-nCoV, Coronavirus_Taiwan, 2019-nCoV...     url   \n",
       "47  [書籤列, 2019-nCoV, Coronavirus_Taiwan, 2019-nCoV...     url   \n",
       "48  [書籤列, 2019-nCoV, Coronavirus_Taiwan, 2019-nCoV...     url   \n",
       "49  [書籤列, 2019-nCoV, Coronavirus_Taiwan, 2019-nCoV...     url   \n",
       "\n",
       "                                                  url  \\\n",
       "0                                                       \n",
       "1                                                       \n",
       "2   https://viator.maps.arcgis.com/apps/opsdashboa...   \n",
       "3                  https://kiang.github.io/2019-nCoV/   \n",
       "4                      https://bangqu.com/a7wXH5.html   \n",
       "5   https://www.google.com/maps/place/300%E6%96%B0...   \n",
       "6                                                       \n",
       "7       https://app.hubstaff.com/users/796279/billing   \n",
       "8     https://3.basecamp.com/3287947/projects/4147783   \n",
       "9   https://gitlab.iinumbers.net/iinumbers-hq/bdo/...   \n",
       "10  https://github.com/KevinMusgrave/pytorch-metri...   \n",
       "11    https://bangqu.com/1m153J.html?utm_source=dable   \n",
       "12         https://chat.google.com/u/1/dm/1zMgWgAAAAE   \n",
       "13              https://ne7ermore.github.io/post/vae/   \n",
       "14                                                      \n",
       "15  https://hackmd.io/@adam840502/SJtCNBNF8/%2Fmok...   \n",
       "16  https://www.kaggle.com/allen-institute-for-ai/...   \n",
       "17  https://www.kaggle.com/c/covid19-global-foreca...   \n",
       "18  https://www.youtube.com/playlist?list=PLbZA63Q...   \n",
       "19  https://enterprise-knowledge.com/whats-the-dif...   \n",
       "20              http://www.kuropka.net/files/TVSM.pdf   \n",
       "21  https://en.wikipedia.org/wiki/Binary_Independe...   \n",
       "22  https://en.wikipedia.org/wiki/Latent_Dirichlet...   \n",
       "23           https://joblib.readthedocs.io/en/latest/   \n",
       "24  https://www.kaggle.com/usharengaraju/basics-of...   \n",
       "25    https://bangqu.com/1m153J.html?utm_source=dable   \n",
       "26  https://www.kdnuggets.com/2019/04/text-preproc...   \n",
       "27  https://phys.org/news/2020-04-covid-genome-sig...   \n",
       "28                https://kknews.cc/news/5amavb3.html   \n",
       "29        https://www.youtube.com/watch?v=Unzc731iCUY   \n",
       "30      https://pypi.org/project/bert-serving-server/   \n",
       "31        https://www.youtube.com/watch?v=Unzc731iCUY   \n",
       "32  https://www.cambro.umu.se/access/content/group...   \n",
       "33  https://www.jiqizhixin.com/sota/tech-fields/8a...   \n",
       "34              https://zhuanlan.zhihu.com/p/43972372   \n",
       "35          https://kknews.cc/zh-tw/code/q993rrr.html   \n",
       "36  https://bangqu.com/19R53N.html?fbclid=IwAR3kS3...   \n",
       "37    https://bangqu.com/1m153J.html?utm_source=dable   \n",
       "38  https://www.kaggle.com/group16/covid-19-knowle...   \n",
       "39              https://zhuanlan.zhihu.com/p/32993044   \n",
       "40  https://www.youtube.com/watch?v=BF6kHD1DAeU&li...   \n",
       "41                                                      \n",
       "42                                                      \n",
       "43                     http://140.113.114.59:8888/lab   \n",
       "44       https://ieeexplore.ieee.org/document/4085463   \n",
       "45  https://hackmd.io/@adam840502/SJtCNBNF8/%2Fmok...   \n",
       "46  https://www.kaggle.com/allen-institute-for-ai/...   \n",
       "47  https://www.kaggle.com/hamid3731/keyphrase-ext...   \n",
       "48  https://www.kaggle.com/midnitekoder/covid-19-c...   \n",
       "49  https://www.kaggle.com/kushagra607/cord-19-cit...   \n",
       "\n",
       "                                              keyword img_url  \n",
       "0                                                  []    None  \n",
       "1                                        [2019, nCoV]    None  \n",
       "2                               [Coronavirus, Taiwan]    None  \n",
       "3                            [2019, nCoV, 武漢, 地圖, 肺炎]    None  \n",
       "4                       [硬核, 勸告, 現在還, 出門, 時候, 幫趣, 程序]    None  \n",
       "5                [300, 東區, 高翠路, 173, Google, 地圖, 新竹市]    None  \n",
       "6                                         [iiNumbers]    None  \n",
       "7                    [Hubstaff, My, account, Billing]    None  \n",
       "8                            [HQ, New, Member, Board]    None  \n",
       "9   [Project, iiNumbers, HQ, Business, Development...    None  \n",
       "10  [metric, learning, GitHub, KevinMusgrave, pyto...    None  \n",
       "11                  [超細節, BERT, Transformer, 知識點, 幫趣]    None  \n",
       "12                            [Yu, Hsuan, Yang, Chat]    None  \n",
       "13                          [Generating, Poetry, VAE]    None  \n",
       "14                                                 []    None  \n",
       "15                        [Kaggle, Notebooks, HackMD]    None  \n",
       "16  [19, COVID, Open, Research, Dataset, Challenge...    None  \n",
       "17       [COVID19, Global, Forecasting, Week, Kaggle]    None  \n",
       "18                      [54, NCTU, CV, 2020, YouTube]    None  \n",
       "19  [Knowledge, What, Difference, Between, Ontolog...    None  \n",
       "20  [Microsoft, Word, Topic, based, Vector, Space,...    None  \n",
       "21           [Binary, Independence, Model, Wikipedia]    None  \n",
       "22         [Latent, Dirichlet, allocation, Wikipedia]    None  \n",
       "23  [Joblib, running, Python, functions, pipeline,...    None  \n",
       "24                    [Basics, DNA, Analysis, Kaggle]    None  \n",
       "25                  [超細節, BERT, Transformer, 知識點, 幫趣]    None  \n",
       "26  [need, know, about, text, preprocessing, NLP, ...    None  \n",
       "27  [Researchers, crack, COVID, 19, genome, signat...    None  \n",
       "28                        [Elasticsearch, 頭條, 模型, 每日]    None  \n",
       "29        [99, How, Speak, Patrick, Winston, YouTube]    None  \n",
       "30                      [bert, serving, server, PyPI]    None  \n",
       "31        [21, How, Speak, Patrick, Winston, YouTube]    None  \n",
       "32  [spaces, Lecture, 21, lder, weak, derivatives,...    None  \n",
       "33                                     [SOTA, 之心, 机器]    None  \n",
       "34               [Graph, Neural, Network, Review, 知乎]    None  \n",
       "35  [圖神經, 網絡, Graph, Neural, Networks, GNN, 綜述, 頭條...    None  \n",
       "36  [改進, Transformer, 類預, 訓練, 語言, 任務, BERT, 幫趣, 超越...    None  \n",
       "37                  [超細節, BERT, Transformer, 知識點, 幫趣]    None  \n",
       "38  [COVID, 19, Knowledge, Graph, Embeddings, Kaggle]    None  \n",
       "39                [Trans, 知乎, 梳理, 论文, 系列, 知识, 学习, 方法]    None  \n",
       "40  [16, Category, theory, foundations, 1.0, Steve...    None  \n",
       "41                                               [21]    None  \n",
       "42                                          [資料夾, 新增]    None  \n",
       "43                                       [JupyterLab]    None  \n",
       "44  [KP, Miner, Simple, System, Effective, Keyphra...    None  \n",
       "45                        [Kaggle, Notebooks, HackMD]    None  \n",
       "46  [19, COVID, Open, Research, Dataset, Challenge...    None  \n",
       "47   [KeyPhrase, Extraction, Graph, analysis, Kaggle]    None  \n",
       "48  [Covid, 19, citation, graph, embedding, using,...    None  \n",
       "49  [CORD, 19, Citation, Graph, Similarity, QA, Co...    None  "
      ]
     },
     "execution_count": 2,
     "metadata": {},
     "output_type": "execute_result"
    }
   ],
   "source": [
    "df = pd.read_hdf('../metadata.h5')\n",
    "df.head(50)"
   ]
  },
  {
   "cell_type": "code",
   "execution_count": 3,
   "metadata": {
    "scrolled": true
   },
   "outputs": [
    {
     "name": "stderr",
     "output_type": "stream",
     "text": [
      "100%|████████████████████████████████████████████████████████████████████████████████| 919/919 [18:12<00:00,  1.05s/it]\n"
     ]
    }
   ],
   "source": [
    "def get_thumbnail(row):\n",
    "    \"\"\"去找網站裡面已經預設好的 thumbnail，結果會有下面三種情形：\n",
    "    \n",
    "        1. None: 沒有結果，之後會重跑\n",
    "        2. '': 有連到，但判定為沒有 thumbnail\n",
    "        3. 'http:...': 成功找到 thumbnail 網址\n",
    "    \"\"\"\n",
    "\n",
    "    if not row['url']:\n",
    "        return ''\n",
    "\n",
    "    if row['img_url'] == None:\n",
    "        try:\n",
    "            with requests.get(row['url'], timeout=1.5) as res:\n",
    "                html = BeautifulSoup(res.text, 'html.parser')\n",
    "            img_node = html.find('meta', attrs={\"property\":\"og:image\"})\n",
    "            if img_node:\n",
    "                return img_node.get('content')\n",
    "            else:\n",
    "                return ''\n",
    "        except Exception as e:\n",
    "            return None\n",
    "\n",
    "for i, row in tqdm(list(df.iterrows())):\n",
    "    df.loc[i, 'img_url'] = get_thumbnail(row)"
   ]
  },
  {
   "cell_type": "code",
   "execution_count": 4,
   "metadata": {},
   "outputs": [
    {
     "data": {
      "text/html": [
       "<div>\n",
       "<style scoped>\n",
       "    .dataframe tbody tr th:only-of-type {\n",
       "        vertical-align: middle;\n",
       "    }\n",
       "\n",
       "    .dataframe tbody tr th {\n",
       "        vertical-align: top;\n",
       "    }\n",
       "\n",
       "    .dataframe thead th {\n",
       "        text-align: right;\n",
       "    }\n",
       "</style>\n",
       "<table border=\"1\" class=\"dataframe\">\n",
       "  <thead>\n",
       "    <tr style=\"text-align: right;\">\n",
       "      <th></th>\n",
       "      <th>children_folders</th>\n",
       "      <th>children_urls</th>\n",
       "      <th>date_added</th>\n",
       "      <th>date_modified</th>\n",
       "      <th>guid</th>\n",
       "      <th>id</th>\n",
       "      <th>meta_info</th>\n",
       "      <th>name</th>\n",
       "      <th>parents</th>\n",
       "      <th>type</th>\n",
       "      <th>url</th>\n",
       "      <th>keyword</th>\n",
       "      <th>img_url</th>\n",
       "    </tr>\n",
       "  </thead>\n",
       "  <tbody>\n",
       "    <tr>\n",
       "      <th>0</th>\n",
       "      <td>[1884, 1891, 1897, 1928, 1936, 1958, 1980, 161...</td>\n",
       "      <td>[1903, 1906, 1907, 1908, 1909, 1910, 1911, 191...</td>\n",
       "      <td>13202479594197706</td>\n",
       "      <td>13242831177794171</td>\n",
       "      <td>00000000-0000-4000-a000-000000000002</td>\n",
       "      <td>1</td>\n",
       "      <td></td>\n",
       "      <td>書籤列</td>\n",
       "      <td>[書籤列, 2019-nCoV, Coronavirus_Taiwan, 2019-nCoV...</td>\n",
       "      <td>folder</td>\n",
       "      <td></td>\n",
       "      <td>[]</td>\n",
       "      <td></td>\n",
       "    </tr>\n",
       "    <tr>\n",
       "      <th>1</th>\n",
       "      <td>[]</td>\n",
       "      <td>[1885, 1886, 1888, 1890]</td>\n",
       "      <td>13233003241034750</td>\n",
       "      <td>13233003241037911</td>\n",
       "      <td>f0b52077-6793-498a-b8eb-462dfc400922</td>\n",
       "      <td>1884</td>\n",
       "      <td></td>\n",
       "      <td>2019-nCoV</td>\n",
       "      <td>[書籤列, 2019-nCoV, Coronavirus_Taiwan, 2019-nCoV...</td>\n",
       "      <td>folder</td>\n",
       "      <td></td>\n",
       "      <td>[2019, nCoV]</td>\n",
       "      <td></td>\n",
       "    </tr>\n",
       "    <tr>\n",
       "      <th>2</th>\n",
       "      <td>[]</td>\n",
       "      <td>[]</td>\n",
       "      <td>13226238181043741</td>\n",
       "      <td></td>\n",
       "      <td>7f8a21b9-b559-44ab-b711-c41800d188d1</td>\n",
       "      <td>1885</td>\n",
       "      <td></td>\n",
       "      <td>Coronavirus_Taiwan</td>\n",
       "      <td>[書籤列, 2019-nCoV, Coronavirus_Taiwan, 2019-nCoV...</td>\n",
       "      <td>url</td>\n",
       "      <td>https://viator.maps.arcgis.com/apps/opsdashboa...</td>\n",
       "      <td>[Coronavirus, Taiwan]</td>\n",
       "      <td></td>\n",
       "    </tr>\n",
       "    <tr>\n",
       "      <th>3</th>\n",
       "      <td>[]</td>\n",
       "      <td>[]</td>\n",
       "      <td>13226407607803828</td>\n",
       "      <td></td>\n",
       "      <td>24a7d7be-2a87-4481-b157-3773db2f4eab</td>\n",
       "      <td>1886</td>\n",
       "      <td></td>\n",
       "      <td>2019-nCoV | 武漢肺炎地圖</td>\n",
       "      <td>[書籤列, 2019-nCoV, Coronavirus_Taiwan, 2019-nCoV...</td>\n",
       "      <td>url</td>\n",
       "      <td>https://kiang.github.io/2019-nCoV/</td>\n",
       "      <td>[2019, nCoV, 武漢, 地圖, 肺炎]</td>\n",
       "      <td>http://kiang.github.io/2019-nCoV/og_image.png</td>\n",
       "    </tr>\n",
       "    <tr>\n",
       "      <th>4</th>\n",
       "      <td>[]</td>\n",
       "      <td>[]</td>\n",
       "      <td>13227360115873492</td>\n",
       "      <td></td>\n",
       "      <td>a09ae3f0-3a5f-417c-ad10-423d35e155f3</td>\n",
       "      <td>1888</td>\n",
       "      <td></td>\n",
       "      <td>程序員硬核勸告：現在還不是出門的時候 - 幫趣</td>\n",
       "      <td>[書籤列, 2019-nCoV, Coronavirus_Taiwan, 2019-nCoV...</td>\n",
       "      <td>url</td>\n",
       "      <td>https://bangqu.com/a7wXH5.html</td>\n",
       "      <td>[硬核, 勸告, 現在還, 出門, 時候, 幫趣, 程序]</td>\n",
       "      <td>https://d2ndd3gtcc6iwc.cloudfront.net/liang/20...</td>\n",
       "    </tr>\n",
       "  </tbody>\n",
       "</table>\n",
       "</div>"
      ],
      "text/plain": [
       "                                    children_folders  \\\n",
       "0  [1884, 1891, 1897, 1928, 1936, 1958, 1980, 161...   \n",
       "1                                                 []   \n",
       "2                                                 []   \n",
       "3                                                 []   \n",
       "4                                                 []   \n",
       "\n",
       "                                       children_urls         date_added  \\\n",
       "0  [1903, 1906, 1907, 1908, 1909, 1910, 1911, 191...  13202479594197706   \n",
       "1                           [1885, 1886, 1888, 1890]  13233003241034750   \n",
       "2                                                 []  13226238181043741   \n",
       "3                                                 []  13226407607803828   \n",
       "4                                                 []  13227360115873492   \n",
       "\n",
       "       date_modified                                  guid    id meta_info  \\\n",
       "0  13242831177794171  00000000-0000-4000-a000-000000000002     1             \n",
       "1  13233003241037911  f0b52077-6793-498a-b8eb-462dfc400922  1884             \n",
       "2                     7f8a21b9-b559-44ab-b711-c41800d188d1  1885             \n",
       "3                     24a7d7be-2a87-4481-b157-3773db2f4eab  1886             \n",
       "4                     a09ae3f0-3a5f-417c-ad10-423d35e155f3  1888             \n",
       "\n",
       "                      name                                            parents  \\\n",
       "0                      書籤列  [書籤列, 2019-nCoV, Coronavirus_Taiwan, 2019-nCoV...   \n",
       "1                2019-nCoV  [書籤列, 2019-nCoV, Coronavirus_Taiwan, 2019-nCoV...   \n",
       "2       Coronavirus_Taiwan  [書籤列, 2019-nCoV, Coronavirus_Taiwan, 2019-nCoV...   \n",
       "3       2019-nCoV | 武漢肺炎地圖  [書籤列, 2019-nCoV, Coronavirus_Taiwan, 2019-nCoV...   \n",
       "4  程序員硬核勸告：現在還不是出門的時候 - 幫趣  [書籤列, 2019-nCoV, Coronavirus_Taiwan, 2019-nCoV...   \n",
       "\n",
       "     type                                                url  \\\n",
       "0  folder                                                      \n",
       "1  folder                                                      \n",
       "2     url  https://viator.maps.arcgis.com/apps/opsdashboa...   \n",
       "3     url                 https://kiang.github.io/2019-nCoV/   \n",
       "4     url                     https://bangqu.com/a7wXH5.html   \n",
       "\n",
       "                         keyword  \\\n",
       "0                             []   \n",
       "1                   [2019, nCoV]   \n",
       "2          [Coronavirus, Taiwan]   \n",
       "3       [2019, nCoV, 武漢, 地圖, 肺炎]   \n",
       "4  [硬核, 勸告, 現在還, 出門, 時候, 幫趣, 程序]   \n",
       "\n",
       "                                             img_url  \n",
       "0                                                     \n",
       "1                                                     \n",
       "2                                                     \n",
       "3      http://kiang.github.io/2019-nCoV/og_image.png  \n",
       "4  https://d2ndd3gtcc6iwc.cloudfront.net/liang/20...  "
      ]
     },
     "execution_count": 4,
     "metadata": {},
     "output_type": "execute_result"
    }
   ],
   "source": [
    "df.head()"
   ]
  },
  {
   "cell_type": "code",
   "execution_count": 5,
   "metadata": {},
   "outputs": [
    {
     "name": "stderr",
     "output_type": "stream",
     "text": [
      "C:\\Users\\adam8\\Anaconda3\\lib\\site-packages\\pandas\\core\\generic.py:2377: PerformanceWarning: \n",
      "your performance may suffer as PyTables will pickle object types that it cannot\n",
      "map directly to c-types [inferred_type->mixed,key->block0_values] [items->['children_folders', 'children_urls', 'date_added', 'date_modified', 'guid', 'id', 'meta_info', 'name', 'parents', 'type', 'url', 'keyword', 'img_url']]\n",
      "\n",
      "  return pytables.to_hdf(path_or_buf, key, self, **kwargs)\n"
     ]
    }
   ],
   "source": [
    "df.to_hdf('../metadata.h5', key='data')"
   ]
  },
  {
   "cell_type": "code",
   "execution_count": 6,
   "metadata": {
    "scrolled": true
   },
   "outputs": [
    {
     "name": "stderr",
     "output_type": "stream",
     "text": [
      "  3%|██▌                                                                              | 29/919 [00:07<05:02,  2.94it/s]"
     ]
    },
    {
     "name": "stdout",
     "output_type": "stream",
     "text": [
      "HTTP Error 403: Forbidden\n"
     ]
    },
    {
     "name": "stderr",
     "output_type": "stream",
     "text": [
      "  4%|██▉                                                                              | 33/919 [00:08<04:39,  3.17it/s]"
     ]
    },
    {
     "name": "stdout",
     "output_type": "stream",
     "text": [
      "HTTP Error 403: Forbidden\n"
     ]
    },
    {
     "name": "stderr",
     "output_type": "stream",
     "text": [
      "  7%|█████▋                                                                           | 64/919 [00:13<02:47,  5.10it/s]"
     ]
    },
    {
     "name": "stdout",
     "output_type": "stream",
     "text": [
      "HTTP Error 403: Forbidden\n"
     ]
    },
    {
     "name": "stderr",
     "output_type": "stream",
     "text": [
      "  9%|███████                                                                          | 80/919 [00:15<02:10,  6.45it/s]"
     ]
    },
    {
     "name": "stdout",
     "output_type": "stream",
     "text": [
      "HTTP Error 403: Forbidden\n"
     ]
    },
    {
     "name": "stderr",
     "output_type": "stream",
     "text": [
      "  9%|███████▏                                                                         | 82/919 [00:16<01:44,  7.98it/s]"
     ]
    },
    {
     "name": "stdout",
     "output_type": "stream",
     "text": [
      "HTTP Error 403: Forbidden\n"
     ]
    },
    {
     "name": "stderr",
     "output_type": "stream",
     "text": [
      " 10%|███████▊                                                                         | 89/919 [00:16<01:09, 12.00it/s]"
     ]
    },
    {
     "name": "stdout",
     "output_type": "stream",
     "text": [
      "hostname 'www.metacademy.org' doesn't match 'metacademy.org'\n"
     ]
    },
    {
     "name": "stderr",
     "output_type": "stream",
     "text": [
      " 11%|████████▉                                                                       | 102/919 [00:20<05:32,  2.46it/s]"
     ]
    },
    {
     "name": "stdout",
     "output_type": "stream",
     "text": [
      "HTTP Error 404: Not Found\n"
     ]
    },
    {
     "name": "stderr",
     "output_type": "stream",
     "text": [
      " 14%|███████████▏                                                                    | 128/919 [00:22<02:41,  4.90it/s]"
     ]
    },
    {
     "name": "stdout",
     "output_type": "stream",
     "text": [
      "HTTP Error 403: Forbidden\n"
     ]
    },
    {
     "name": "stderr",
     "output_type": "stream",
     "text": [
      " 16%|████████████▍                                                                   | 143/919 [00:27<07:46,  1.66it/s]"
     ]
    },
    {
     "name": "stdout",
     "output_type": "stream",
     "text": [
      "HTTP Error 403: Forbidden\n"
     ]
    },
    {
     "name": "stderr",
     "output_type": "stream",
     "text": [
      " 16%|█████████████▏                                                                  | 151/919 [00:28<04:30,  2.84it/s]"
     ]
    },
    {
     "name": "stdout",
     "output_type": "stream",
     "text": [
      "HTTP Error 404: Not Found\n"
     ]
    },
    {
     "name": "stderr",
     "output_type": "stream",
     "text": [
      " 17%|█████████████▍                                                                  | 154/919 [00:28<03:17,  3.87it/s]"
     ]
    },
    {
     "name": "stdout",
     "output_type": "stream",
     "text": [
      "HTTP Error 403: Forbidden\n"
     ]
    },
    {
     "name": "stderr",
     "output_type": "stream",
     "text": [
      " 19%|███████████████▍                                                                | 178/919 [00:32<02:25,  5.08it/s]"
     ]
    },
    {
     "name": "stdout",
     "output_type": "stream",
     "text": [
      "Remote end closed connection without response\n"
     ]
    },
    {
     "name": "stderr",
     "output_type": "stream",
     "text": [
      " 20%|███████████████▋                                                                | 180/919 [00:32<01:57,  6.30it/s]"
     ]
    },
    {
     "name": "stdout",
     "output_type": "stream",
     "text": [
      "HTTP Error 403: Forbidden\n"
     ]
    },
    {
     "name": "stderr",
     "output_type": "stream",
     "text": [
      " 21%|████████████████▋                                                               | 192/919 [00:33<01:23,  8.71it/s]"
     ]
    },
    {
     "name": "stdout",
     "output_type": "stream",
     "text": [
      "HTTP Error 403: Forbidden\n"
     ]
    },
    {
     "name": "stderr",
     "output_type": "stream",
     "text": [
      " 26%|████████████████████▊                                                           | 239/919 [00:39<02:37,  4.33it/s]"
     ]
    },
    {
     "name": "stdout",
     "output_type": "stream",
     "text": [
      "HTTP Error 403: Forbidden\n"
     ]
    },
    {
     "name": "stderr",
     "output_type": "stream",
     "text": [
      " 34%|██████████████████████████▊                                                     | 308/919 [00:58<02:58,  3.42it/s]"
     ]
    },
    {
     "name": "stdout",
     "output_type": "stream",
     "text": [
      "HTTP Error 404: Not Found\n"
     ]
    },
    {
     "name": "stderr",
     "output_type": "stream",
     "text": [
      " 35%|████████████████████████████▏                                                   | 324/919 [01:00<02:26,  4.06it/s]"
     ]
    },
    {
     "name": "stdout",
     "output_type": "stream",
     "text": [
      "HTTP Error 403: Forbidden\n"
     ]
    },
    {
     "name": "stderr",
     "output_type": "stream",
     "text": [
      " 38%|██████████████████████████████▍                                                 | 349/919 [01:04<02:06,  4.49it/s]"
     ]
    },
    {
     "name": "stdout",
     "output_type": "stream",
     "text": [
      "HTTP Error 403: Forbidden\n"
     ]
    },
    {
     "name": "stderr",
     "output_type": "stream",
     "text": [
      " 38%|██████████████████████████████▌                                                 | 351/919 [01:04<01:41,  5.61it/s]"
     ]
    },
    {
     "name": "stdout",
     "output_type": "stream",
     "text": [
      "HTTP Error 403: Forbidden\n",
      "HTTP Error 400: Bad Request\n"
     ]
    },
    {
     "name": "stderr",
     "output_type": "stream",
     "text": [
      " 40%|████████████████████████████████                                                | 368/919 [01:08<02:19,  3.96it/s]"
     ]
    },
    {
     "name": "stdout",
     "output_type": "stream",
     "text": [
      "HTTP Error 403: Forbidden\n"
     ]
    },
    {
     "name": "stderr",
     "output_type": "stream",
     "text": [
      " 41%|████████████████████████████████▍                                               | 373/919 [01:10<03:13,  2.82it/s]"
     ]
    },
    {
     "name": "stdout",
     "output_type": "stream",
     "text": [
      "hostname 'www.metacademy.org' doesn't match 'metacademy.org'\n"
     ]
    },
    {
     "name": "stderr",
     "output_type": "stream",
     "text": [
      " 41%|████████████████████████████████▋                                               | 375/919 [01:11<03:00,  3.02it/s]"
     ]
    },
    {
     "name": "stdout",
     "output_type": "stream",
     "text": [
      "HTTP Error 403: Forbidden\n"
     ]
    },
    {
     "name": "stderr",
     "output_type": "stream",
     "text": [
      " 41%|█████████████████████████████████▏                                              | 381/919 [01:13<04:00,  2.24it/s]"
     ]
    },
    {
     "name": "stdout",
     "output_type": "stream",
     "text": [
      "HTTP Error 403: Forbidden\n"
     ]
    },
    {
     "name": "stderr",
     "output_type": "stream",
     "text": [
      " 42%|█████████████████████████████████▎                                              | 382/919 [01:14<04:00,  2.23it/s]"
     ]
    },
    {
     "name": "stdout",
     "output_type": "stream",
     "text": [
      "HTTP Error 403: Forbidden\n"
     ]
    },
    {
     "name": "stderr",
     "output_type": "stream",
     "text": [
      " 44%|███████████████████████████████████▎                                            | 405/919 [01:22<04:56,  1.73it/s]"
     ]
    },
    {
     "name": "stdout",
     "output_type": "stream",
     "text": [
      "HTTP Error 403: Forbidden\n"
     ]
    },
    {
     "name": "stderr",
     "output_type": "stream",
     "text": [
      " 44%|███████████████████████████████████▍                                            | 407/919 [01:23<04:50,  1.77it/s]"
     ]
    },
    {
     "name": "stdout",
     "output_type": "stream",
     "text": [
      "HTTP Error 403: Forbidden\n"
     ]
    },
    {
     "name": "stderr",
     "output_type": "stream",
     "text": [
      " 45%|████████████████████████████████████▏                                           | 416/919 [01:27<05:57,  1.41it/s]"
     ]
    },
    {
     "name": "stdout",
     "output_type": "stream",
     "text": [
      "HTTP Error 403: Forbidden\n"
     ]
    },
    {
     "name": "stderr",
     "output_type": "stream",
     "text": [
      " 46%|████████████████████████████████████▉                                           | 425/919 [01:29<04:13,  1.95it/s]"
     ]
    },
    {
     "name": "stdout",
     "output_type": "stream",
     "text": [
      "HTTP Error 403: Forbidden\n"
     ]
    },
    {
     "name": "stderr",
     "output_type": "stream",
     "text": [
      " 46%|█████████████████████████████████████                                           | 426/919 [01:30<04:37,  1.77it/s]"
     ]
    },
    {
     "name": "stdout",
     "output_type": "stream",
     "text": [
      "HTTP Error 403: Forbidden\n"
     ]
    },
    {
     "name": "stderr",
     "output_type": "stream",
     "text": [
      " 48%|██████████████████████████████████████▌                                         | 443/919 [01:32<01:41,  4.69it/s]"
     ]
    },
    {
     "name": "stdout",
     "output_type": "stream",
     "text": [
      "HTTP Error 403: Forbidden\n"
     ]
    },
    {
     "name": "stderr",
     "output_type": "stream",
     "text": [
      " 50%|████████████████████████████████████████                                        | 460/919 [01:37<03:03,  2.51it/s]"
     ]
    },
    {
     "name": "stdout",
     "output_type": "stream",
     "text": [
      "HTTP Error 403: Forbidden\n"
     ]
    },
    {
     "name": "stderr",
     "output_type": "stream",
     "text": [
      " 50%|████████████████████████████████████████▏                                       | 461/919 [01:38<03:36,  2.12it/s]"
     ]
    },
    {
     "name": "stdout",
     "output_type": "stream",
     "text": [
      "HTTP Error 403: Forbidden\n"
     ]
    },
    {
     "name": "stderr",
     "output_type": "stream",
     "text": [
      " 55%|████████████████████████████████████████████▍                                   | 510/919 [01:47<02:36,  2.61it/s]"
     ]
    },
    {
     "name": "stdout",
     "output_type": "stream",
     "text": [
      "Remote end closed connection without response\n"
     ]
    },
    {
     "name": "stderr",
     "output_type": "stream",
     "text": [
      " 57%|█████████████████████████████████████████████▌                                  | 523/919 [01:48<01:37,  4.04it/s]"
     ]
    },
    {
     "name": "stdout",
     "output_type": "stream",
     "text": [
      "HTTP Error 403: Forbidden\n"
     ]
    },
    {
     "name": "stderr",
     "output_type": "stream",
     "text": [
      " 59%|███████████████████████████████████████████████▌                                | 546/919 [01:50<01:32,  4.05it/s]"
     ]
    },
    {
     "name": "stdout",
     "output_type": "stream",
     "text": [
      "HTTP Error 403: Forbidden\n"
     ]
    },
    {
     "name": "stderr",
     "output_type": "stream",
     "text": [
      " 80%|████████████████████████████████████████████████████████████████▏               | 738/919 [02:16<00:43,  4.20it/s]"
     ]
    },
    {
     "name": "stdout",
     "output_type": "stream",
     "text": [
      "HTTP Error 403: Forbidden\n"
     ]
    },
    {
     "name": "stderr",
     "output_type": "stream",
     "text": [
      " 85%|███████████████████████████████████████████████████████████████████▋            | 777/919 [02:23<00:46,  3.05it/s]"
     ]
    },
    {
     "name": "stdout",
     "output_type": "stream",
     "text": [
      "<urlopen error [Errno 11001] getaddrinfo failed>\n"
     ]
    },
    {
     "name": "stderr",
     "output_type": "stream",
     "text": [
      " 89%|██████████████████████████████████████████████████████████████████████▊         | 814/919 [02:28<00:26,  4.02it/s]"
     ]
    },
    {
     "name": "stdout",
     "output_type": "stream",
     "text": [
      "HTTP Error 403: Forbidden\n"
     ]
    },
    {
     "name": "stderr",
     "output_type": "stream",
     "text": [
      " 89%|██████████████████████████████████████████████████████████████████████▉         | 815/919 [02:29<00:42,  2.45it/s]"
     ]
    },
    {
     "name": "stdout",
     "output_type": "stream",
     "text": [
      "HTTP Error 403: Forbidden\n"
     ]
    },
    {
     "name": "stderr",
     "output_type": "stream",
     "text": [
      " 89%|███████████████████████████████████████████████████████████████████████         | 817/919 [02:30<00:31,  3.20it/s]"
     ]
    },
    {
     "name": "stdout",
     "output_type": "stream",
     "text": [
      "HTTP Error 404: Not Found\n"
     ]
    },
    {
     "name": "stderr",
     "output_type": "stream",
     "text": [
      " 89%|███████████████████████████████████████████████████████████████████████▍        | 820/919 [02:30<00:27,  3.54it/s]"
     ]
    },
    {
     "name": "stdout",
     "output_type": "stream",
     "text": [
      "HTTP Error 403: Forbidden\n"
     ]
    },
    {
     "name": "stderr",
     "output_type": "stream",
     "text": [
      " 90%|████████████████████████████████████████████████████████████████████████▎       | 830/919 [02:34<00:29,  3.00it/s]"
     ]
    },
    {
     "name": "stdout",
     "output_type": "stream",
     "text": [
      "HTTP Error 403: Forbidden\n"
     ]
    },
    {
     "name": "stderr",
     "output_type": "stream",
     "text": [
      " 91%|████████████████████████████████████████████████████████████████████████▌       | 834/919 [02:36<00:46,  1.82it/s]"
     ]
    },
    {
     "name": "stdout",
     "output_type": "stream",
     "text": [
      "HTTP Error 400: Bad Request\n"
     ]
    },
    {
     "name": "stderr",
     "output_type": "stream",
     "text": [
      " 91%|████████████████████████████████████████████████████████████████████████▊       | 837/919 [02:37<00:35,  2.30it/s]"
     ]
    },
    {
     "name": "stdout",
     "output_type": "stream",
     "text": [
      "HTTP Error 403: Forbidden\n"
     ]
    },
    {
     "name": "stderr",
     "output_type": "stream",
     "text": [
      " 92%|█████████████████████████████████████████████████████████████████████████▏      | 841/919 [02:37<00:23,  3.32it/s]"
     ]
    },
    {
     "name": "stdout",
     "output_type": "stream",
     "text": [
      "HTTP Error 403: Forbidden\n"
     ]
    },
    {
     "name": "stderr",
     "output_type": "stream",
     "text": [
      " 92%|█████████████████████████████████████████████████████████████████████████▊      | 848/919 [02:39<00:13,  5.07it/s]"
     ]
    },
    {
     "name": "stdout",
     "output_type": "stream",
     "text": [
      "HTTP Error 403: Forbidden\n"
     ]
    },
    {
     "name": "stderr",
     "output_type": "stream",
     "text": [
      " 93%|██████████████████████████████████████████████████████████████████████████      | 851/919 [02:39<00:14,  4.63it/s]"
     ]
    },
    {
     "name": "stdout",
     "output_type": "stream",
     "text": [
      "HTTP Error 403: Forbidden\n"
     ]
    },
    {
     "name": "stderr",
     "output_type": "stream",
     "text": [
      " 93%|██████████████████████████████████████████████████████████████████████████▎     | 853/919 [02:40<00:16,  3.95it/s]"
     ]
    },
    {
     "name": "stdout",
     "output_type": "stream",
     "text": [
      "HTTP Error 403: Forbidden\n"
     ]
    },
    {
     "name": "stderr",
     "output_type": "stream",
     "text": [
      " 93%|██████████████████████████████████████████████████████████████████████████▎     | 854/919 [02:41<00:24,  2.71it/s]"
     ]
    },
    {
     "name": "stdout",
     "output_type": "stream",
     "text": [
      "HTTP Error 403: Forbidden\n"
     ]
    },
    {
     "name": "stderr",
     "output_type": "stream",
     "text": [
      " 93%|██████████████████████████████████████████████████████████████████████████▌     | 856/919 [02:42<00:27,  2.30it/s]"
     ]
    },
    {
     "name": "stdout",
     "output_type": "stream",
     "text": [
      "HTTP Error 403: Forbidden\n"
     ]
    },
    {
     "name": "stderr",
     "output_type": "stream",
     "text": [
      " 94%|██████████████████████████████████████████████████████████████████████████▊     | 860/919 [02:43<00:30,  1.93it/s]"
     ]
    },
    {
     "name": "stdout",
     "output_type": "stream",
     "text": [
      "HTTP Error 403: Forbidden\n"
     ]
    },
    {
     "name": "stderr",
     "output_type": "stream",
     "text": [
      " 94%|██████████████████████████████████████████████████████████████████████████▉     | 861/919 [02:44<00:32,  1.80it/s]"
     ]
    },
    {
     "name": "stdout",
     "output_type": "stream",
     "text": [
      "HTTP Error 403: Forbidden\n"
     ]
    },
    {
     "name": "stderr",
     "output_type": "stream",
     "text": [
      " 95%|███████████████████████████████████████████████████████████████████████████▉    | 872/919 [02:48<00:20,  2.29it/s]"
     ]
    },
    {
     "name": "stdout",
     "output_type": "stream",
     "text": [
      "HTTP Error 403: Forbidden\n"
     ]
    },
    {
     "name": "stderr",
     "output_type": "stream",
     "text": [
      " 95%|████████████████████████████████████████████████████████████████████████████▎   | 877/919 [02:49<00:14,  2.88it/s]"
     ]
    },
    {
     "name": "stdout",
     "output_type": "stream",
     "text": [
      "HTTP Error 403: Forbidden\n"
     ]
    },
    {
     "name": "stderr",
     "output_type": "stream",
     "text": [
      " 96%|████████████████████████████████████████████████████████████████████████████▌   | 879/919 [02:50<00:14,  2.73it/s]"
     ]
    },
    {
     "name": "stdout",
     "output_type": "stream",
     "text": [
      "HTTP Error 403: Forbidden\n"
     ]
    },
    {
     "name": "stderr",
     "output_type": "stream",
     "text": [
      " 96%|█████████████████████████████████████████████████████████████████████████████▏  | 886/919 [02:55<00:31,  1.05it/s]"
     ]
    },
    {
     "name": "stdout",
     "output_type": "stream",
     "text": [
      "HTTP Error 403: Forbidden\n"
     ]
    },
    {
     "name": "stderr",
     "output_type": "stream",
     "text": [
      " 97%|█████████████████████████████████████████████████████████████████████████████▏  | 887/919 [02:56<00:26,  1.23it/s]"
     ]
    },
    {
     "name": "stdout",
     "output_type": "stream",
     "text": [
      "HTTP Error 403: Forbidden\n"
     ]
    },
    {
     "name": "stderr",
     "output_type": "stream",
     "text": [
      " 97%|█████████████████████████████████████████████████████████████████████████████▉  | 895/919 [02:58<00:10,  2.35it/s]"
     ]
    },
    {
     "name": "stdout",
     "output_type": "stream",
     "text": [
      "HTTP Error 403: Forbidden\n"
     ]
    },
    {
     "name": "stderr",
     "output_type": "stream",
     "text": [
      "100%|███████████████████████████████████████████████████████████████████████████████▋| 916/919 [03:02<00:00,  5.02it/s]"
     ]
    },
    {
     "name": "stdout",
     "output_type": "stream",
     "text": [
      "HTTP Error 403: Forbidden\n"
     ]
    },
    {
     "name": "stderr",
     "output_type": "stream",
     "text": [
      "100%|████████████████████████████████████████████████████████████████████████████████| 919/919 [03:02<00:00,  4.43it/s]"
     ]
    },
    {
     "name": "stdout",
     "output_type": "stream",
     "text": [
      "HTTP Error 403: Forbidden\n"
     ]
    },
    {
     "name": "stderr",
     "output_type": "stream",
     "text": [
      "\n"
     ]
    },
    {
     "data": {
      "text/plain": [
       "0      None\n",
       "1      None\n",
       "2      None\n",
       "3      None\n",
       "4      None\n",
       "5      None\n",
       "6      None\n",
       "7      None\n",
       "8      None\n",
       "9      None\n",
       "10     None\n",
       "11     None\n",
       "12     None\n",
       "13     None\n",
       "14     None\n",
       "15     None\n",
       "16     None\n",
       "17     None\n",
       "18     None\n",
       "19     None\n",
       "20     None\n",
       "21     None\n",
       "22     None\n",
       "23     None\n",
       "24     None\n",
       "25     None\n",
       "26     None\n",
       "27     None\n",
       "28     None\n",
       "29     None\n",
       "       ... \n",
       "889    None\n",
       "890    None\n",
       "891    None\n",
       "892    None\n",
       "893    None\n",
       "894    None\n",
       "895    None\n",
       "896    None\n",
       "897    None\n",
       "898    None\n",
       "899    None\n",
       "900    None\n",
       "901    None\n",
       "902    None\n",
       "903    None\n",
       "904    None\n",
       "905    None\n",
       "906    None\n",
       "907    None\n",
       "908    None\n",
       "909    None\n",
       "910    None\n",
       "911    None\n",
       "912    None\n",
       "913    None\n",
       "914    None\n",
       "915    None\n",
       "916    None\n",
       "917    None\n",
       "918    None\n",
       "Length: 919, dtype: object"
      ]
     },
     "execution_count": 6,
     "metadata": {},
     "output_type": "execute_result"
    }
   ],
   "source": [
    "def get_image(row):\n",
    "    if row['img_url']:\n",
    "        img_url = urljoin(*row[['url', 'img_url']])\n",
    "\n",
    "        try:\n",
    "            urllib.request.urlretrieve(img_url, f\"../static/images/{row['guid']}\")\n",
    "                \n",
    "        except Exception as e:\n",
    "            print(e)\n",
    "\n",
    "df.progress_apply(get_image, axis='columns')"
   ]
  }
 ],
 "metadata": {
  "kernelspec": {
   "display_name": "Python 3",
   "language": "python",
   "name": "python3"
  },
  "language_info": {
   "codemirror_mode": {
    "name": "ipython",
    "version": 3
   },
   "file_extension": ".py",
   "mimetype": "text/x-python",
   "name": "python",
   "nbconvert_exporter": "python",
   "pygments_lexer": "ipython3",
   "version": "3.6.8"
  }
 },
 "nbformat": 4,
 "nbformat_minor": 4
}
