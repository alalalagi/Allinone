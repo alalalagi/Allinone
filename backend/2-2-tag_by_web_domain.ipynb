{
 "cells": [
  {
   "cell_type": "code",
   "execution_count": 3,
   "metadata": {},
   "outputs": [],
   "source": [
    "import re\n",
    "import numpy as np\n",
    "import pandas as pd\n",
    "from tqdm import tqdm\n",
    "tqdm.pandas()"
   ]
  },
  {
   "cell_type": "code",
   "execution_count": 2,
   "metadata": {},
   "outputs": [
    {
     "data": {
      "text/html": [
       "<div>\n",
       "<style scoped>\n",
       "    .dataframe tbody tr th:only-of-type {\n",
       "        vertical-align: middle;\n",
       "    }\n",
       "\n",
       "    .dataframe tbody tr th {\n",
       "        vertical-align: top;\n",
       "    }\n",
       "\n",
       "    .dataframe thead th {\n",
       "        text-align: right;\n",
       "    }\n",
       "</style>\n",
       "<table border=\"1\" class=\"dataframe\">\n",
       "  <thead>\n",
       "    <tr style=\"text-align: right;\">\n",
       "      <th></th>\n",
       "      <th>date_added</th>\n",
       "      <th>date_modified</th>\n",
       "      <th>guid</th>\n",
       "      <th>id</th>\n",
       "      <th>meta_info</th>\n",
       "      <th>name</th>\n",
       "      <th>parents</th>\n",
       "      <th>type</th>\n",
       "      <th>url</th>\n",
       "      <th>keyword</th>\n",
       "      <th>img_url</th>\n",
       "      <th>children_id</th>\n",
       "    </tr>\n",
       "  </thead>\n",
       "  <tbody>\n",
       "    <tr>\n",
       "      <th>0</th>\n",
       "      <td>13202479594197706</td>\n",
       "      <td>13242831177794171</td>\n",
       "      <td>00000000-0000-4000-a000-000000000002</td>\n",
       "      <td>1</td>\n",
       "      <td></td>\n",
       "      <td>書籤列</td>\n",
       "      <td>[1]</td>\n",
       "      <td>folder</td>\n",
       "      <td></td>\n",
       "      <td>[]</td>\n",
       "      <td></td>\n",
       "      <td>[1884, 1891, 1897, 1903, 1906, 1907, 1908, 190...</td>\n",
       "    </tr>\n",
       "    <tr>\n",
       "      <th>1</th>\n",
       "      <td>13233003241034750</td>\n",
       "      <td>13233003241037911</td>\n",
       "      <td>f0b52077-6793-498a-b8eb-462dfc400922</td>\n",
       "      <td>1884</td>\n",
       "      <td></td>\n",
       "      <td>2019-nCoV</td>\n",
       "      <td>[1, 1884]</td>\n",
       "      <td>folder</td>\n",
       "      <td></td>\n",
       "      <td>[2019, nCoV]</td>\n",
       "      <td></td>\n",
       "      <td>[1885, 1886, 1888, 1890]</td>\n",
       "    </tr>\n",
       "    <tr>\n",
       "      <th>2</th>\n",
       "      <td>13226238181043741</td>\n",
       "      <td></td>\n",
       "      <td>7f8a21b9-b559-44ab-b711-c41800d188d1</td>\n",
       "      <td>1885</td>\n",
       "      <td></td>\n",
       "      <td>Coronavirus_Taiwan</td>\n",
       "      <td>[1, 1884, 1885]</td>\n",
       "      <td>url</td>\n",
       "      <td>https://viator.maps.arcgis.com/apps/opsdashboa...</td>\n",
       "      <td>[Coronavirus, Taiwan]</td>\n",
       "      <td></td>\n",
       "      <td>[]</td>\n",
       "    </tr>\n",
       "    <tr>\n",
       "      <th>3</th>\n",
       "      <td>13226407607803828</td>\n",
       "      <td></td>\n",
       "      <td>24a7d7be-2a87-4481-b157-3773db2f4eab</td>\n",
       "      <td>1886</td>\n",
       "      <td></td>\n",
       "      <td>2019-nCoV | 武漢肺炎地圖</td>\n",
       "      <td>[1, 1884, 1886]</td>\n",
       "      <td>url</td>\n",
       "      <td>https://kiang.github.io/2019-nCoV/</td>\n",
       "      <td>[2019, nCoV, 武漢, 地圖, 肺炎]</td>\n",
       "      <td>http://kiang.github.io/2019-nCoV/og_image.png</td>\n",
       "      <td>[]</td>\n",
       "    </tr>\n",
       "    <tr>\n",
       "      <th>4</th>\n",
       "      <td>13227360115873492</td>\n",
       "      <td></td>\n",
       "      <td>a09ae3f0-3a5f-417c-ad10-423d35e155f3</td>\n",
       "      <td>1888</td>\n",
       "      <td></td>\n",
       "      <td>程序員硬核勸告：現在還不是出門的時候 - 幫趣</td>\n",
       "      <td>[1, 1884, 1888]</td>\n",
       "      <td>url</td>\n",
       "      <td>https://bangqu.com/a7wXH5.html</td>\n",
       "      <td>[硬核, 勸告, 現在還, 出門, 時候, 幫趣, 程序]</td>\n",
       "      <td>https://d2ndd3gtcc6iwc.cloudfront.net/liang/20...</td>\n",
       "      <td>[]</td>\n",
       "    </tr>\n",
       "  </tbody>\n",
       "</table>\n",
       "</div>"
      ],
      "text/plain": [
       "          date_added      date_modified                                  guid  \\\n",
       "0  13202479594197706  13242831177794171  00000000-0000-4000-a000-000000000002   \n",
       "1  13233003241034750  13233003241037911  f0b52077-6793-498a-b8eb-462dfc400922   \n",
       "2  13226238181043741                     7f8a21b9-b559-44ab-b711-c41800d188d1   \n",
       "3  13226407607803828                     24a7d7be-2a87-4481-b157-3773db2f4eab   \n",
       "4  13227360115873492                     a09ae3f0-3a5f-417c-ad10-423d35e155f3   \n",
       "\n",
       "     id meta_info                     name          parents    type  \\\n",
       "0     1                                書籤列              [1]  folder   \n",
       "1  1884                          2019-nCoV        [1, 1884]  folder   \n",
       "2  1885                 Coronavirus_Taiwan  [1, 1884, 1885]     url   \n",
       "3  1886                 2019-nCoV | 武漢肺炎地圖  [1, 1884, 1886]     url   \n",
       "4  1888            程序員硬核勸告：現在還不是出門的時候 - 幫趣  [1, 1884, 1888]     url   \n",
       "\n",
       "                                                 url  \\\n",
       "0                                                      \n",
       "1                                                      \n",
       "2  https://viator.maps.arcgis.com/apps/opsdashboa...   \n",
       "3                 https://kiang.github.io/2019-nCoV/   \n",
       "4                     https://bangqu.com/a7wXH5.html   \n",
       "\n",
       "                         keyword  \\\n",
       "0                             []   \n",
       "1                   [2019, nCoV]   \n",
       "2          [Coronavirus, Taiwan]   \n",
       "3       [2019, nCoV, 武漢, 地圖, 肺炎]   \n",
       "4  [硬核, 勸告, 現在還, 出門, 時候, 幫趣, 程序]   \n",
       "\n",
       "                                             img_url  \\\n",
       "0                                                      \n",
       "1                                                      \n",
       "2                                                      \n",
       "3      http://kiang.github.io/2019-nCoV/og_image.png   \n",
       "4  https://d2ndd3gtcc6iwc.cloudfront.net/liang/20...   \n",
       "\n",
       "                                         children_id  \n",
       "0  [1884, 1891, 1897, 1903, 1906, 1907, 1908, 190...  \n",
       "1                           [1885, 1886, 1888, 1890]  \n",
       "2                                                 []  \n",
       "3                                                 []  \n",
       "4                                                 []  "
      ]
     },
     "execution_count": 2,
     "metadata": {},
     "output_type": "execute_result"
    }
   ],
   "source": [
    "df = pd.read_hdf('../metadata.h5')\n",
    "df.head()"
   ]
  },
  {
   "cell_type": "code",
   "execution_count": 6,
   "metadata": {},
   "outputs": [
    {
     "data": {
      "text/plain": [
       "'https://viator.maps.arcgis.com/apps/opsdashboard/index.html#/bbd3dfeeec9c494daf178457c7b74c3e'"
      ]
     },
     "execution_count": 6,
     "metadata": {},
     "output_type": "execute_result"
    }
   ],
   "source": [
    "df.loc[2, 'url']"
   ]
  },
  {
   "cell_type": "code",
   "execution_count": 26,
   "metadata": {},
   "outputs": [],
   "source": [
    "def get_domain(url):\n",
    "    m = re.match('https?://(?P<domain>.*?)/', url)\n",
    "    if m:\n",
    "        domain = '.'.join(m.groupdict()['domain'].split('.')[-2:])\n",
    "        return domain\n",
    "    return None\n",
    "\n",
    "domain_series = df['url'].apply(get_domain)"
   ]
  },
  {
   "cell_type": "code",
   "execution_count": 40,
   "metadata": {},
   "outputs": [
    {
     "name": "stdout",
     "output_type": "stream",
     "text": [
      "(257,)\n"
     ]
    },
    {
     "data": {
      "text/plain": [
       "array(['arcgis.com', 'github.io', 'bangqu.com', 'google.com',\n",
       "       'hubstaff.com'], dtype=object)"
      ]
     },
     "execution_count": 40,
     "metadata": {},
     "output_type": "execute_result"
    }
   ],
   "source": [
    "tags_unique = domain_series[domain_series.notnull()].unique()\n",
    "print(tags_unique.shape)\n",
    "tags_unique[:5]"
   ]
  },
  {
   "cell_type": "code",
   "execution_count": 42,
   "metadata": {},
   "outputs": [
    {
     "name": "stderr",
     "output_type": "stream",
     "text": [
      "100%|██████████████████████████████████████████████████████████████████████████████| 257/257 [00:00<00:00, 1079.47it/s]\n"
     ]
    },
    {
     "name": "stdout",
     "output_type": "stream",
     "text": [
      "(257,)\n"
     ]
    },
    {
     "data": {
      "text/plain": [
       "0                                                  [2]\n",
       "1    [3, 13, 92, 153, 159, 161, 269, 290, 356, 385,...\n",
       "2    [4, 11, 25, 36, 37, 78, 157, 160, 212, 261, 26...\n",
       "3    [5, 12, 93, 94, 105, 122, 124, 314, 451, 477, ...\n",
       "4                                                  [7]\n",
       "dtype: object"
      ]
     },
     "execution_count": 42,
     "metadata": {},
     "output_type": "execute_result"
    }
   ],
   "source": [
    "bookmark_ids = pd.Series(tags_unique).progress_apply(lambda tag: np.where(domain_series == tag)[0])\n",
    "print(bookmark_ids.shape)\n",
    "bookmark_ids.head()"
   ]
  },
  {
   "cell_type": "code",
   "execution_count": 47,
   "metadata": {},
   "outputs": [
    {
     "data": {
      "text/plain": [
       "arcgis.com                                                    [2]\n",
       "github.io       [3, 13, 92, 153, 159, 161, 269, 290, 356, 385,...\n",
       "bangqu.com      [4, 11, 25, 36, 37, 78, 157, 160, 212, 261, 26...\n",
       "google.com      [5, 12, 93, 94, 105, 122, 124, 314, 451, 477, ...\n",
       "hubstaff.com                                                  [7]\n",
       "dtype: object"
      ]
     },
     "execution_count": 47,
     "metadata": {},
     "output_type": "execute_result"
    }
   ],
   "source": [
    "tag2ids = pd.Series(bookmark_ids.values, index=tags_unique)\n",
    "tag2ids.head()"
   ]
  },
  {
   "cell_type": "code",
   "execution_count": 62,
   "metadata": {},
   "outputs": [
    {
     "data": {
      "text/html": [
       "<div>\n",
       "<style scoped>\n",
       "    .dataframe tbody tr th:only-of-type {\n",
       "        vertical-align: middle;\n",
       "    }\n",
       "\n",
       "    .dataframe tbody tr th {\n",
       "        vertical-align: top;\n",
       "    }\n",
       "\n",
       "    .dataframe thead th {\n",
       "        text-align: right;\n",
       "    }\n",
       "</style>\n",
       "<table border=\"1\" class=\"dataframe\">\n",
       "  <thead>\n",
       "    <tr style=\"text-align: right;\">\n",
       "      <th></th>\n",
       "      <th>name</th>\n",
       "      <th>children</th>\n",
       "      <th>type</th>\n",
       "    </tr>\n",
       "  </thead>\n",
       "  <tbody>\n",
       "    <tr>\n",
       "      <th>0</th>\n",
       "      <td>arcgis.com</td>\n",
       "      <td>[2]</td>\n",
       "      <td>tag</td>\n",
       "    </tr>\n",
       "    <tr>\n",
       "      <th>1</th>\n",
       "      <td>github.io</td>\n",
       "      <td>[3, 13, 92, 153, 159, 161, 269, 290, 356, 385,...</td>\n",
       "      <td>tag</td>\n",
       "    </tr>\n",
       "    <tr>\n",
       "      <th>2</th>\n",
       "      <td>bangqu.com</td>\n",
       "      <td>[4, 11, 25, 36, 37, 78, 157, 160, 212, 261, 26...</td>\n",
       "      <td>tag</td>\n",
       "    </tr>\n",
       "    <tr>\n",
       "      <th>3</th>\n",
       "      <td>google.com</td>\n",
       "      <td>[5, 12, 93, 94, 105, 122, 124, 314, 451, 477, ...</td>\n",
       "      <td>tag</td>\n",
       "    </tr>\n",
       "    <tr>\n",
       "      <th>4</th>\n",
       "      <td>hubstaff.com</td>\n",
       "      <td>[7]</td>\n",
       "      <td>tag</td>\n",
       "    </tr>\n",
       "  </tbody>\n",
       "</table>\n",
       "</div>"
      ],
      "text/plain": [
       "           name                                           children type\n",
       "0    arcgis.com                                                [2]  tag\n",
       "1     github.io  [3, 13, 92, 153, 159, 161, 269, 290, 356, 385,...  tag\n",
       "2    bangqu.com  [4, 11, 25, 36, 37, 78, 157, 160, 212, 261, 26...  tag\n",
       "3    google.com  [5, 12, 93, 94, 105, 122, 124, 314, 451, 477, ...  tag\n",
       "4  hubstaff.com                                                [7]  tag"
      ]
     },
     "execution_count": 62,
     "metadata": {},
     "output_type": "execute_result"
    }
   ],
   "source": [
    "f = tag2ids.to_frame()\n",
    "f = f.reset_index().rename(columns={\n",
    "    'index': 'name',\n",
    "    0: 'children'\n",
    "})\n",
    "f['children'] = f['children'].apply(lambda arr: arr.tolist())\n",
    "f['type'] = 'tag'\n",
    "f.head()"
   ]
  },
  {
   "cell_type": "code",
   "execution_count": 63,
   "metadata": {},
   "outputs": [],
   "source": [
    "f.to_hdf('../static/tag_dfs/web_domain.h5', key='data')"
   ]
  }
 ],
 "metadata": {
  "kernelspec": {
   "display_name": "Python 3",
   "language": "python",
   "name": "python3"
  },
  "language_info": {
   "codemirror_mode": {
    "name": "ipython",
    "version": 3
   },
   "file_extension": ".py",
   "mimetype": "text/x-python",
   "name": "python",
   "nbconvert_exporter": "python",
   "pygments_lexer": "ipython3",
   "version": "3.6.8"
  }
 },
 "nbformat": 4,
 "nbformat_minor": 4
}
