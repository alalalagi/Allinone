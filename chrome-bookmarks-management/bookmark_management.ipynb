{
 "cells": [
  {
   "cell_type": "code",
   "execution_count": 1,
   "metadata": {},
   "outputs": [],
   "source": [
    "import json\n",
    "import re\n",
    "import os\n",
    "\n",
    "import pandas as pd\n",
    "from tqdm import tqdm\n",
    "tqdm.pandas()\n",
    "\n",
    "import jieba.analyse"
   ]
  },
  {
   "cell_type": "raw",
   "metadata": {
    "jupyter": {
     "source_hidden": true
    }
   },
   "source": [
    "### functions\n",
    "\n",
    "output_file_template = \"\"\"\n",
    "<h3>书签目录</h3>\n",
    "{catelog}\n",
    "{bookmark_bar}\n",
    "\n",
    "{other}\n",
    "\"\"\"\n",
    "\n",
    "output_file_template = \"\"\"\n",
    "<h3>我來測試啦~~~~</h3>\n",
    "{other}\n",
    "\"\"\"\n",
    "\n",
    "# 过滤 name\n",
    "filter_name_list = {'My work', '书签栏', 'websites'}\n",
    "\n",
    "html_escape_table = {\n",
    "    \"&\": \"&amp;\",\n",
    "    '\"': \"&quot;\",\n",
    "    \"'\": \"&#39;\",\n",
    "    \">\": \"&gt;\",\n",
    "    \"<\": \"&lt;\",\n",
    "}\n",
    "\n",
    "\n",
    "def html_escape(text):\n",
    "    return ''.join(html_escape_table.get(c, c) for c in text)\n",
    "\n",
    "def html_for_node(node):    # node 是個 dictionary\n",
    "    # 判断 url 和 children 即判断是否包含在文件夹中\n",
    "    if 'url' in node:\n",
    "        return html_for_url_node(node)\n",
    "    elif 'children' in node:\n",
    "        return html_for_parent_node(node) #處理資料夾\n",
    "    else:\n",
    "        return ''\n",
    "\n",
    "def html_for_url_node(node):\n",
    "    if not re.match(\"javascript:\", node['url']):\n",
    "        return f'- [{node['name']}]({node['url']})\\n'\n",
    "    else:\n",
    "        return ''\n",
    "\n",
    "\n",
    "def html_for_parent_node(node): #有<h4,列資料夾名>\n",
    "    return f'{filter_catelog_name(node)}\\n\\n{''.join([filter_name(n) for n in node['children']])}\\n'\n",
    "\n",
    "# 过滤文件夹\n",
    "def filter_name(n):\n",
    "    if n['name'] in filter_name_list:\n",
    "        return ''\n",
    "    else:\n",
    "        return html_for_node(n)\n",
    "\n",
    "# 过滤目录名\n",
    "def filter_catelog_name(n):\n",
    "    if n['name'] in filter_name_list:\n",
    "        return ''\n",
    "    else:\n",
    "        catelog.append('- [{0}](#{0})\\n'.format(n['name']))\n",
    "        return '<h4 id={0}>{0}</h4>'.format(n['name'])"
   ]
  },
  {
   "cell_type": "code",
   "execution_count": 2,
   "metadata": {},
   "outputs": [
    {
     "name": "stdout",
     "output_type": "stream",
     "text": [
      "C:\\Users\\adam8\\AppData\\Local\n"
     ]
    }
   ],
   "source": [
    "### load data 一次就好\n",
    "\n",
    "catelog = list() # 目录\n",
    "\n",
    "print(os.environ[\"LOCALAPPDATA\"])\n",
    "input_filename = os.environ[\"LOCALAPPDATA\"] + r\"\\Google\\Chrome\\User Data\\Default\\Bookmarks\"\n",
    "\n",
    "with open(input_filename, 'r', encoding='utf-8') as f:\n",
    "    contents = json.load(f)"
   ]
  },
  {
   "cell_type": "markdown",
   "metadata": {},
   "source": [
    "# contents 結構\n",
    "```python\n",
    "{  \n",
    "    'checksum': <str>,    # 一個檢查用的資訊  \n",
    "    'roots': {  \n",
    "        'bookmark_bar': {  \n",
    "            'children': [<nested with dicts with structure same as this dict>],  \n",
    "            'date_added': <str with numbers>,  \n",
    "            'date_modified': <str with numbers>,  \n",
    "            'guid': <str>,    # example: '00000000-0000-4000-a000-000000000002'  \n",
    "            'id': <str with numbers>,  \n",
    "            'name': <str>,  \n",
    "            'type': <str>    # 有 folder, url  \n",
    "        },  \n",
    "        'other': {<same as bookmark_bar>},  \n",
    "        'synced' {<same as bookmark_bar>}:  \n",
    "    },  \n",
    "    sync_metadata: <str>,    # 一大串不知道幹嘛的亂碼  \n",
    "    version: <int>  \n",
    "}\n",
    "```"
   ]
  },
  {
   "cell_type": "code",
   "execution_count": 3,
   "metadata": {},
   "outputs": [],
   "source": [
    "def get_nodes_info(root, parent_name):\n",
    "    children = root.pop('children', None)\n",
    "    root['parent'] = parent_name\n",
    "    info_list = [root]\n",
    "    \n",
    "    if children:\n",
    "        for child in children:\n",
    "            info_list.extend(get_nodes_info(child, root['name']))\n",
    "    \n",
    "    return info_list"
   ]
  },
  {
   "cell_type": "code",
   "execution_count": 4,
   "metadata": {},
   "outputs": [
    {
     "name": "stdout",
     "output_type": "stream",
     "text": [
      "(488, 9)\n"
     ]
    },
    {
     "data": {
      "text/html": [
       "<div>\n",
       "<style scoped>\n",
       "    .dataframe tbody tr th:only-of-type {\n",
       "        vertical-align: middle;\n",
       "    }\n",
       "\n",
       "    .dataframe tbody tr th {\n",
       "        vertical-align: top;\n",
       "    }\n",
       "\n",
       "    .dataframe thead th {\n",
       "        text-align: right;\n",
       "    }\n",
       "</style>\n",
       "<table border=\"1\" class=\"dataframe\">\n",
       "  <thead>\n",
       "    <tr style=\"text-align: right;\">\n",
       "      <th></th>\n",
       "      <th>date_added</th>\n",
       "      <th>date_modified</th>\n",
       "      <th>guid</th>\n",
       "      <th>id</th>\n",
       "      <th>meta_info</th>\n",
       "      <th>name</th>\n",
       "      <th>parent</th>\n",
       "      <th>type</th>\n",
       "      <th>url</th>\n",
       "    </tr>\n",
       "  </thead>\n",
       "  <tbody>\n",
       "    <tr>\n",
       "      <th>0</th>\n",
       "      <td>13202479594197706</td>\n",
       "      <td>13241369625133688</td>\n",
       "      <td>00000000-0000-4000-a000-000000000002</td>\n",
       "      <td>1</td>\n",
       "      <td>NaN</td>\n",
       "      <td>書籤列</td>\n",
       "      <td>bookmark_bar</td>\n",
       "      <td>folder</td>\n",
       "      <td>NaN</td>\n",
       "    </tr>\n",
       "    <tr>\n",
       "      <th>1</th>\n",
       "      <td>13233003241034750</td>\n",
       "      <td>13233003241037911</td>\n",
       "      <td>f0b52077-6793-498a-b8eb-462dfc400922</td>\n",
       "      <td>1884</td>\n",
       "      <td>NaN</td>\n",
       "      <td>2019-nCoV</td>\n",
       "      <td>書籤列</td>\n",
       "      <td>folder</td>\n",
       "      <td>NaN</td>\n",
       "    </tr>\n",
       "    <tr>\n",
       "      <th>2</th>\n",
       "      <td>13226238181043741</td>\n",
       "      <td>NaN</td>\n",
       "      <td>7f8a21b9-b559-44ab-b711-c41800d188d1</td>\n",
       "      <td>1885</td>\n",
       "      <td>NaN</td>\n",
       "      <td>Coronavirus_Taiwan</td>\n",
       "      <td>2019-nCoV</td>\n",
       "      <td>url</td>\n",
       "      <td>https://viator.maps.arcgis.com/apps/opsdashboa...</td>\n",
       "    </tr>\n",
       "    <tr>\n",
       "      <th>3</th>\n",
       "      <td>13226407607803828</td>\n",
       "      <td>NaN</td>\n",
       "      <td>24a7d7be-2a87-4481-b157-3773db2f4eab</td>\n",
       "      <td>1886</td>\n",
       "      <td>NaN</td>\n",
       "      <td>2019-nCoV | 武漢肺炎地圖</td>\n",
       "      <td>2019-nCoV</td>\n",
       "      <td>url</td>\n",
       "      <td>https://kiang.github.io/2019-nCoV/</td>\n",
       "    </tr>\n",
       "    <tr>\n",
       "      <th>4</th>\n",
       "      <td>13227360115873492</td>\n",
       "      <td>NaN</td>\n",
       "      <td>a09ae3f0-3a5f-417c-ad10-423d35e155f3</td>\n",
       "      <td>1888</td>\n",
       "      <td>NaN</td>\n",
       "      <td>程序員硬核勸告：現在還不是出門的時候 - 幫趣</td>\n",
       "      <td>2019-nCoV</td>\n",
       "      <td>url</td>\n",
       "      <td>https://bangqu.com/a7wXH5.html</td>\n",
       "    </tr>\n",
       "  </tbody>\n",
       "</table>\n",
       "</div>"
      ],
      "text/plain": [
       "          date_added      date_modified                                  guid  \\\n",
       "0  13202479594197706  13241369625133688  00000000-0000-4000-a000-000000000002   \n",
       "1  13233003241034750  13233003241037911  f0b52077-6793-498a-b8eb-462dfc400922   \n",
       "2  13226238181043741                NaN  7f8a21b9-b559-44ab-b711-c41800d188d1   \n",
       "3  13226407607803828                NaN  24a7d7be-2a87-4481-b157-3773db2f4eab   \n",
       "4  13227360115873492                NaN  a09ae3f0-3a5f-417c-ad10-423d35e155f3   \n",
       "\n",
       "     id meta_info                     name        parent    type  \\\n",
       "0     1       NaN                      書籤列  bookmark_bar  folder   \n",
       "1  1884       NaN                2019-nCoV           書籤列  folder   \n",
       "2  1885       NaN       Coronavirus_Taiwan     2019-nCoV     url   \n",
       "3  1886       NaN       2019-nCoV | 武漢肺炎地圖     2019-nCoV     url   \n",
       "4  1888       NaN  程序員硬核勸告：現在還不是出門的時候 - 幫趣     2019-nCoV     url   \n",
       "\n",
       "                                                 url  \n",
       "0                                                NaN  \n",
       "1                                                NaN  \n",
       "2  https://viator.maps.arcgis.com/apps/opsdashboa...  \n",
       "3                 https://kiang.github.io/2019-nCoV/  \n",
       "4                     https://bangqu.com/a7wXH5.html  "
      ]
     },
     "execution_count": 4,
     "metadata": {},
     "output_type": "execute_result"
    }
   ],
   "source": [
    "bookmark_bar_info = get_nodes_info(contents['roots']['bookmark_bar'], 'bookmark_bar')\n",
    "other_info = get_nodes_info(contents['roots']['other'], 'other')\n",
    "synced_info = get_nodes_info(contents['roots']['synced'], 'synced')\n",
    "\n",
    "info = bookmark_bar_info + other_info + synced_info\n",
    "\n",
    "df = pd.DataFrame(info)\n",
    "print(df.shape)\n",
    "df.head()"
   ]
  },
  {
   "cell_type": "code",
   "execution_count": null,
   "metadata": {},
   "outputs": [],
   "source": [
    "jieba.analyse.set_stop_words('meaningless_words.txt')\n",
    "\n",
    "df['keyword'] = df['name'].progress_apply(jieba.analyse.tfidf)\n",
    "df"
   ]
  },
  {
   "cell_type": "markdown",
   "metadata": {},
   "source": [
    "# TODO\n",
    "1. [x] 加入'tag' by 斷詞\n",
    "2. [x] 加入母資料夾\n",
    "3. [ ] 類似的東東們, i.e. recommendation system not yet"
   ]
  },
  {
   "cell_type": "code",
   "execution_count": 6,
   "metadata": {},
   "outputs": [
    {
     "name": "stderr",
     "output_type": "stream",
     "text": [
      "Building prefix dict from the default dictionary ...\n",
      "Loading model from cache C:\\Users\\KUROGI~1\\AppData\\Local\\Temp\\jieba.cache\n",
      "Loading model cost 1.437 seconds.\n",
      "Prefix dict has been built successfully.\n"
     ]
    }
   ],
   "source": [
    "### 現在要做出 recommendation system"
   ]
  },
  {
   "cell_type": "code",
   "execution_count": null,
   "metadata": {},
   "outputs": [],
   "source": [
    "### key: 列出不重複的tags，value: 每個tag分別有哪些書籤\n",
    "\n",
    "keywords = [keyword for keywords in df['keyword'] for keyword in keywords]\n",
    "keywords = list(set(keywords))\n",
    "record = {i:[] for i in keywords}\n",
    "\n",
    "[i for i in df.itertuples()]\n",
    "# for idx, sublist in enumerate(output['tag']):\n",
    "#     for item in sublist:\n",
    "#         record[item].append(output['id'][idx])"
   ]
  },
  {
   "cell_type": "markdown",
   "metadata": {},
   "source": [
    "# record"
   ]
  },
  {
   "cell_type": "code",
   "execution_count": 10,
   "metadata": {},
   "outputs": [],
   "source": [
    "# output.iloc[0,:].to_dict() #弄成json傳給網頁\n",
    "l = [len(l) for l in record.values()]\n",
    "l = max(l)\n",
    "\n",
    "# for idx,keys in enumerate(record):\n",
    "#     print(keys)\n",
    "# enumerate(record)"
   ]
  },
  {
   "cell_type": "code",
   "execution_count": 11,
   "metadata": {},
   "outputs": [],
   "source": [
    "### main do things and output to md\n",
    "\n",
    "bookmark_bar = html_for_node(contents['roots']['bookmark_bar'])\n",
    "other = html_for_node(contents['roots']['other'])\n",
    "catelog_str = ''.join(a for a in catelog)\n",
    "\n",
    "output_file_name = \"output_markdown.md\"\n",
    "with open(output_file_name, 'w', encoding='utf-8') as f:\n",
    "#     f.write(output_file_template.format(catelog=catelog_str, bookmark_bar=bookmark_bar, other=other)) #origin\n",
    "    f.write(output_file_template.format(other=other))"
   ]
  },
  {
   "cell_type": "markdown",
   "metadata": {},
   "source": [
    "# other"
   ]
  },
  {
   "cell_type": "code",
   "execution_count": 11,
   "metadata": {},
   "outputs": [],
   "source": [
    "# def download_thumb_img(url):\n",
    "#     load_html\n",
    "#     load_all_img\n",
    "#     find_max_img\n",
    "\n",
    "# route = download_thumb_img(googlebookmarkinfo['url'][idx])    # ex: 'C:/example.png'"
   ]
  },
  {
   "cell_type": "markdown",
   "metadata": {},
   "source": [
    "# 爬一個網址中的所有圖片"
   ]
  },
  {
   "cell_type": "raw",
   "metadata": {},
   "source": [
    "import requests\n",
    "import re\n",
    "import os\n",
    "from bs4 import BeautifulSoup\n",
    "from urllib.request import urlretrieve\n",
    "\n",
    "url = 'https://github.com/Alex-CHUN-YU/Word2vec'\n",
    "url = 'https://www.youtube.com/watch?v=nrm3UaMAWOg'"
   ]
  },
  {
   "cell_type": "raw",
   "metadata": {},
   "source": [
    "### Below is tumblr climber 用來改的\n",
    "\n",
    "tum_img_filter  = re.compile('http[s]?://\\w+.media.tumblr.com/\\w+/\\w+\\.(?:jpg|png|gif)')\n",
    "alltype_img_filter = re.compile('http[s]?://\\S+\\.(?:jpg|png|gif)')\n",
    "\n",
    "def true_name(x): #重新命名，處理資料夾違法命名\n",
    "\tfor i in [':','\\n','?','/','|','*','>','<','=']:\n",
    "\t\tx = x.replace(i,'')\n",
    "\treturn x\n",
    "\n",
    "def download_all_images(url):\n",
    "    res = requests.get(url) #這是一個class\t#print(res.text) #裡面的text屬性就是html原始碼\n",
    "    html = BeautifulSoup(res.text,'html.parser') #也是建立class\t# print(html.title) #這樣印會含有<title>\t# print(html.title.text) #這個就是真正的title\n",
    "    imageset = alltype_img_filter.findall(res.text) #符合filter規則的弄成一個list\n",
    "    max_value = 0\n",
    "    for img_route in set(imageset): #要找到最大的下載\n",
    "        print(img_route)\n",
    "#         now_pic = cv2.imread(img_route)\n",
    "#         if 大小(now_pic)>max_value:\n",
    "#             max_img_route = img_route\n",
    "#     try:\n",
    "#         urlretrieve(max_img_route,os.path.join('Thumb_pic_Dataset',(guid+'.jpg')))\n",
    "#     except: #回傳爬不到的網址到txt\n",
    "#         print(\"GGGGGGGGGGGGGGGGGGG有問題:\"+url)\n",
    "#         faillist.append(url)\n",
    "#         break"
   ]
  },
  {
   "cell_type": "raw",
   "metadata": {},
   "source": [
    "download_all_images(url)"
   ]
  }
 ],
 "metadata": {
  "kernelspec": {
   "display_name": "Python 3",
   "language": "python",
   "name": "python3"
  },
  "language_info": {
   "codemirror_mode": {
    "name": "ipython",
    "version": 3
   },
   "file_extension": ".py",
   "mimetype": "text/x-python",
   "name": "python",
   "nbconvert_exporter": "python",
   "pygments_lexer": "ipython3",
   "version": "3.6.8"
  }
 },
 "nbformat": 4,
 "nbformat_minor": 4
}
